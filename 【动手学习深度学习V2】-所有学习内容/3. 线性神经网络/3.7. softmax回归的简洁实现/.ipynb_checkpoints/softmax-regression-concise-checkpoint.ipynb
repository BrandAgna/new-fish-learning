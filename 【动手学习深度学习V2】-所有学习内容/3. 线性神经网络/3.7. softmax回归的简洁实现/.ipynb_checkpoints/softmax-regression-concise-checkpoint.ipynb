{
 "cells": [
  {
   "cell_type": "markdown",
   "id": "1464cc27",
   "metadata": {
    "origin_pos": 0
   },
   "source": [
    "# softmax回归的简洁实现"
   ]
  },
  {
   "cell_type": "code",
   "execution_count": 7,
   "id": "7f81001f",
   "metadata": {
    "execution": {
     "iopub.execute_input": "2023-08-18T06:57:16.212083Z",
     "iopub.status.busy": "2023-08-18T06:57:16.211369Z",
     "iopub.status.idle": "2023-08-18T06:57:18.227520Z",
     "shell.execute_reply": "2023-08-18T06:57:18.226314Z"
    },
    "origin_pos": 2,
    "tab": [
     "pytorch"
    ]
   },
   "outputs": [],
   "source": [
    "import torch\n",
    "from torch import nn\n",
    "from d2l import torch as d2l"
   ]
  },
  {
   "cell_type": "code",
   "execution_count": 8,
   "id": "92e395a8",
   "metadata": {
    "execution": {
     "iopub.execute_input": "2023-08-18T06:57:18.231806Z",
     "iopub.status.busy": "2023-08-18T06:57:18.230933Z",
     "iopub.status.idle": "2023-08-18T06:57:18.337514Z",
     "shell.execute_reply": "2023-08-18T06:57:18.336238Z"
    },
    "origin_pos": 5,
    "tab": [
     "pytorch"
    ]
   },
   "outputs": [],
   "source": [
    "batch_size = 256\n",
    "train_iter, test_iter = d2l.load_data_fashion_mnist(batch_size)"
   ]
  },
  {
   "cell_type": "markdown",
   "id": "fb2b9199",
   "metadata": {
    "origin_pos": 6
   },
   "source": [
    "## 初始化模型参数"
   ]
  },
  {
   "cell_type": "code",
   "execution_count": 9,
   "id": "ebf37311",
   "metadata": {
    "execution": {
     "iopub.execute_input": "2023-08-18T06:57:18.342288Z",
     "iopub.status.busy": "2023-08-18T06:57:18.342007Z",
     "iopub.status.idle": "2023-08-18T06:57:18.349431Z",
     "shell.execute_reply": "2023-08-18T06:57:18.348277Z"
    },
    "origin_pos": 8,
    "tab": [
     "pytorch"
    ]
   },
   "outputs": [],
   "source": [
    "# PyTorch不会隐式地调整输入的形状。因此，\n",
    "# 我们在线性层前定义了展平层（flatten），来调整网络输入的形状\n",
    "net = nn.Sequential(nn.Flatten(), nn.Linear(784, 10))\n",
    "\n",
    "def init_weights(m):\n",
    "    if type(m) == nn.Linear:\n",
    "        nn.init.normal_(m.weight, std=0.01)\n",
    "\n",
    "net.apply(init_weights);"
   ]
  },
  {
   "cell_type": "markdown",
   "id": "30a6c3c5",
   "metadata": {
    "origin_pos": 11
   },
   "source": [
    "## 重新审视Softmax的实现"
   ]
  },
  {
   "cell_type": "code",
   "execution_count": 10,
   "id": "91c3ac45",
   "metadata": {
    "execution": {
     "iopub.execute_input": "2023-08-18T06:57:18.353684Z",
     "iopub.status.busy": "2023-08-18T06:57:18.353410Z",
     "iopub.status.idle": "2023-08-18T06:57:18.358187Z",
     "shell.execute_reply": "2023-08-18T06:57:18.357079Z"
    },
    "origin_pos": 13,
    "tab": [
     "pytorch"
    ]
   },
   "outputs": [],
   "source": [
    "loss = nn.CrossEntropyLoss(reduction='none')"
   ]
  },
  {
   "cell_type": "markdown",
   "id": "c347cec2",
   "metadata": {
    "origin_pos": 15
   },
   "source": [
    "## 优化算法"
   ]
  },
  {
   "cell_type": "code",
   "execution_count": 11,
   "id": "c4849ef8",
   "metadata": {
    "execution": {
     "iopub.execute_input": "2023-08-18T06:57:18.362274Z",
     "iopub.status.busy": "2023-08-18T06:57:18.361998Z",
     "iopub.status.idle": "2023-08-18T06:57:18.366991Z",
     "shell.execute_reply": "2023-08-18T06:57:18.365798Z"
    },
    "origin_pos": 17,
    "tab": [
     "pytorch"
    ]
   },
   "outputs": [],
   "source": [
    "trainer = torch.optim.SGD(net.parameters(), lr=0.1)"
   ]
  },
  {
   "cell_type": "markdown",
   "id": "c2cf8941",
   "metadata": {
    "origin_pos": 20
   },
   "source": [
    "## 训练"
   ]
  },
  {
   "cell_type": "code",
   "execution_count": 12,
   "id": "5acea90d",
   "metadata": {
    "execution": {
     "iopub.execute_input": "2023-08-18T06:57:18.371133Z",
     "iopub.status.busy": "2023-08-18T06:57:18.370849Z",
     "iopub.status.idle": "2023-08-18T06:58:00.716532Z",
     "shell.execute_reply": "2023-08-18T06:58:00.715223Z"
    },
    "origin_pos": 21,
    "tab": [
     "pytorch"
    ]
   },
   "outputs": [
    {
     "ename": "AttributeError",
     "evalue": "module 'd2l.torch' has no attribute 'train_ch3'",
     "output_type": "error",
     "traceback": [
      "\u001b[1;31m---------------------------------------------------------------------------\u001b[0m",
      "\u001b[1;31mAttributeError\u001b[0m                            Traceback (most recent call last)",
      "Cell \u001b[1;32mIn[12], line 2\u001b[0m\n\u001b[0;32m      1\u001b[0m num_epochs \u001b[38;5;241m=\u001b[39m \u001b[38;5;241m10\u001b[39m\n\u001b[1;32m----> 2\u001b[0m \u001b[43md2l\u001b[49m\u001b[38;5;241;43m.\u001b[39;49m\u001b[43mtrain_ch3\u001b[49m(net, train_iter, test_iter, loss, num_epochs, trainer)\n",
      "\u001b[1;31mAttributeError\u001b[0m: module 'd2l.torch' has no attribute 'train_ch3'"
     ]
    }
   ],
   "source": [
    "num_epochs = 10\n",
    "d2l.train_ch3(net, train_iter, test_iter, loss, num_epochs, trainer)"
   ]
  },
  {
   "cell_type": "markdown",
   "id": "e09d7d1c",
   "metadata": {
    "origin_pos": 22
   },
   "source": [
    "和以前一样，这个算法使结果收敛到一个相当高的精度，而且这次的代码比之前更精简了。\n",
    "\n",
    "## 小结\n",
    "\n",
    "* 使用深度学习框架的高级API，我们可以更简洁地实现softmax回归。\n",
    "* 从计算的角度来看，实现softmax回归比较复杂。在许多情况下，深度学习框架在这些著名的技巧之外采取了额外的预防措施，来确保数值的稳定性。这使我们避免了在实践中从零开始编写模型时可能遇到的陷阱。\n",
    "\n",
    "## 练习\n",
    "\n",
    "1. 尝试调整超参数，例如批量大小、迭代周期数和学习率，并查看结果。\n",
    "1. 增加迭代周期的数量。为什么测试精度会在一段时间后降低？我们怎么解决这个问题？\n"
   ]
  },
  {
   "cell_type": "markdown",
   "id": "e81d17a2",
   "metadata": {
    "origin_pos": 24,
    "tab": [
     "pytorch"
    ]
   },
   "source": [
    "[Discussions](https://discuss.d2l.ai/t/1793)\n"
   ]
  }
 ],
 "metadata": {
  "kernelspec": {
   "display_name": "Python 3 (ipykernel)",
   "language": "python",
   "name": "python3"
  },
  "language_info": {
   "codemirror_mode": {
    "name": "ipython",
    "version": 3
   },
   "file_extension": ".py",
   "mimetype": "text/x-python",
   "name": "python",
   "nbconvert_exporter": "python",
   "pygments_lexer": "ipython3",
   "version": "3.11.5"
  },
  "required_libs": []
 },
 "nbformat": 4,
 "nbformat_minor": 5
}
