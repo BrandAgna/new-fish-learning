{
 "cells": [
  {
   "cell_type": "markdown",
   "id": "ab73852c",
   "metadata": {
    "origin_pos": 0
   },
   "source": [
    "## 读取数据集"
   ]
  },
  {
   "cell_type": "code",
   "execution_count": 24,
   "id": "ee72fd16",
   "metadata": {
    "execution": {
     "iopub.execute_input": "2023-08-18T07:03:38.903209Z",
     "iopub.status.busy": "2023-08-18T07:03:38.902351Z",
     "iopub.status.idle": "2023-08-18T07:03:38.918117Z",
     "shell.execute_reply": "2023-08-18T07:03:38.916775Z"
    },
    "origin_pos": 1,
    "tab": [
     "pytorch"
    ]
   },
   "outputs": [],
   "source": [
    "import os"
   ]
  },
  {
   "cell_type": "code",
   "execution_count": 25,
   "id": "630a59de",
   "metadata": {},
   "outputs": [],
   "source": [
    "os.makedirs(os.path.join('..', 'data'), exist_ok=True)\n",
    "data_file = os.path.join('..', 'data', 'house_tiny.csv')\n",
    "with open(data_file, 'w') as f:\n",
    "    f.write('NumRooms,Alley,Price\\n')  # 列名\n",
    "    f.write('NA,Pave,127500\\n')  # 每行表示一个数据样本\n",
    "    f.write('2,NA,106000\\n')\n",
    "    f.write('4,NA,178100\\n')\n",
    "    f.write('NA,NA,140000\\n')"
   ]
  },
  {
   "cell_type": "code",
   "execution_count": 26,
   "id": "5fb16e52",
   "metadata": {
    "execution": {
     "iopub.execute_input": "2023-08-18T07:03:38.923957Z",
     "iopub.status.busy": "2023-08-18T07:03:38.923101Z",
     "iopub.status.idle": "2023-08-18T07:03:39.372116Z",
     "shell.execute_reply": "2023-08-18T07:03:39.371151Z"
    },
    "origin_pos": 3,
    "tab": [
     "pytorch"
    ]
   },
   "outputs": [
    {
     "name": "stdout",
     "output_type": "stream",
     "text": [
      "   NumRooms Alley   Price\n",
      "0       NaN  Pave  127500\n",
      "1       2.0   NaN  106000\n",
      "2       4.0   NaN  178100\n",
      "3       NaN   NaN  140000\n"
     ]
    }
   ],
   "source": [
    "import pandas as pd\n",
    "data = pd.read_csv(data_file)\n",
    "print(data)"
   ]
  },
  {
   "cell_type": "markdown",
   "id": "30188bf5",
   "metadata": {
    "origin_pos": 4
   },
   "source": [
    "## 处理缺失值"
   ]
  },
  {
   "cell_type": "code",
   "execution_count": 27,
   "id": "0b03abb7",
   "metadata": {},
   "outputs": [
    {
     "name": "stdout",
     "output_type": "stream",
     "text": [
      "   NumRooms Alley\n",
      "0       3.0  Pave\n",
      "1       2.0   NaN\n",
      "2       4.0   NaN\n",
      "3       3.0   NaN\n"
     ]
    }
   ],
   "source": [
    "# 分离数值列和非数值列\n",
    "numeric_inputs = inputs.select_dtypes(include=['number'])\n",
    "non_numeric_inputs = inputs.select_dtypes(exclude=['number'])\n",
    "\n",
    "# 只对数值列填充均值\n",
    "numeric_inputs = numeric_inputs.fillna(numeric_inputs.mean())\n",
    "\n",
    "# 将处理后的数值列和非数值列重新合并\n",
    "inputs = pd.concat([numeric_inputs, non_numeric_inputs], axis=1)\n",
    "print(inputs)"
   ]
  },
  {
   "cell_type": "code",
   "execution_count": 28,
   "id": "09ab8738",
   "metadata": {
    "execution": {
     "iopub.execute_input": "2023-08-18T07:03:39.394176Z",
     "iopub.status.busy": "2023-08-18T07:03:39.393444Z",
     "iopub.status.idle": "2023-08-18T07:03:39.409892Z",
     "shell.execute_reply": "2023-08-18T07:03:39.408559Z"
    },
    "origin_pos": 7,
    "tab": [
     "pytorch"
    ]
   },
   "outputs": [
    {
     "name": "stdout",
     "output_type": "stream",
     "text": [
      "   NumRooms  Alley_Pave  Alley_nan\n",
      "0       3.0        True      False\n",
      "1       2.0       False       True\n",
      "2       4.0       False       True\n",
      "3       3.0       False       True\n"
     ]
    }
   ],
   "source": [
    "inputs = pd.get_dummies(inputs, dummy_na=True)\n",
    "print(inputs)"
   ]
  },
  {
   "cell_type": "markdown",
   "id": "ea1dd875",
   "metadata": {
    "origin_pos": 8
   },
   "source": [
    "## 转换为张量格式"
   ]
  },
  {
   "cell_type": "code",
   "execution_count": 29,
   "id": "4f551c6d",
   "metadata": {
    "execution": {
     "iopub.execute_input": "2023-08-18T07:03:39.414531Z",
     "iopub.status.busy": "2023-08-18T07:03:39.413831Z",
     "iopub.status.idle": "2023-08-18T07:03:40.467689Z",
     "shell.execute_reply": "2023-08-18T07:03:40.466637Z"
    },
    "origin_pos": 10,
    "tab": [
     "pytorch"
    ]
   },
   "outputs": [
    {
     "data": {
      "text/plain": [
       "(tensor([[3., 1., 0.],\n",
       "         [2., 0., 1.],\n",
       "         [4., 0., 1.],\n",
       "         [3., 0., 1.]], dtype=torch.float64),\n",
       " tensor([127500., 106000., 178100., 140000.], dtype=torch.float64))"
      ]
     },
     "execution_count": 29,
     "metadata": {},
     "output_type": "execute_result"
    }
   ],
   "source": [
    "import torch\n",
    "\n",
    "X = torch.tensor(inputs.to_numpy(dtype=float))\n",
    "y = torch.tensor(outputs.to_numpy(dtype=float))\n",
    "X, y"
   ]
  }
 ],
 "metadata": {
  "kernelspec": {
   "display_name": "Python 3 (ipykernel)",
   "language": "python",
   "name": "python3"
  },
  "language_info": {
   "codemirror_mode": {
    "name": "ipython",
    "version": 3
   },
   "file_extension": ".py",
   "mimetype": "text/x-python",
   "name": "python",
   "nbconvert_exporter": "python",
   "pygments_lexer": "ipython3",
   "version": "3.11.5"
  },
  "required_libs": []
 },
 "nbformat": 4,
 "nbformat_minor": 5
}
