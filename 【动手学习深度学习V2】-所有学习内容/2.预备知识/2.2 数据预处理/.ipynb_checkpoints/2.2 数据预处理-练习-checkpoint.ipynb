{
 "cells": [
  {
   "cell_type": "markdown",
   "id": "b3e8b6ee",
   "metadata": {},
   "source": [
    "## 练习：\n",
    "### 创建包含更多行和列的原始数据集。\n",
    "### 删除缺失值最多的列。\n",
    "### 将预处理后的数据集转换为张量格式"
   ]
  },
  {
   "cell_type": "markdown",
   "id": "c204c71e",
   "metadata": {},
   "source": [
    "# 创建更大的数据集："
   ]
  },
  {
   "cell_type": "code",
   "execution_count": 14,
   "id": "89a76c25",
   "metadata": {},
   "outputs": [],
   "source": [
    "import os"
   ]
  },
  {
   "cell_type": "code",
   "execution_count": 15,
   "id": "3b0e83e2",
   "metadata": {},
   "outputs": [],
   "source": [
    "os.makedirs(os.path.join('..', 'data'), exist_ok=True)\n",
    "data_file = os.path.join('..', 'data', 'house_tiny.csv')\n",
    "with open(data_file, 'w') as f:\n",
    "    f.write('NumRooms,Alley,Price\\n')  # 列名\n",
    "    f.write('NA,Pave,127500\\n')  # 每行表示一个数据样本\n",
    "    f.write('2,NA,106000\\n')\n",
    "    f.write('4,NA,178100\\n')\n",
    "    f.write('NA,NA,140000\\n')"
   ]
  },
  {
   "cell_type": "code",
   "execution_count": 16,
   "id": "b1af5e7d",
   "metadata": {},
   "outputs": [
    {
     "name": "stdout",
     "output_type": "stream",
     "text": [
      "   NumRooms Alley     Price         A         B         C         D         E\n",
      "0       NaN  Pave  127500.0       NaN       NaN       NaN       NaN       NaN\n",
      "1       2.0   NaN  106000.0       NaN       NaN       NaN       NaN       NaN\n",
      "2       4.0   NaN  178100.0       NaN       NaN       NaN       NaN       NaN\n",
      "3       NaN   NaN  140000.0       NaN       NaN       NaN       NaN       NaN\n",
      "0       NaN   NaN       NaN  0.794112  0.971615  0.971912  0.196960  0.218427\n",
      "1       NaN   NaN       NaN  0.149058  0.436776  0.018542  0.773761  0.096223\n",
      "2       NaN   NaN       NaN  0.312132  0.919810  0.051403  0.760027  0.798478\n",
      "3       NaN   NaN       NaN  0.842144  0.721521  0.946694  0.849967  0.736572\n",
      "4       NaN   NaN       NaN  0.125328  0.998212  0.478494  0.063539  0.092507\n",
      "5       NaN   NaN       NaN  0.724749  0.549715  0.553334  0.388400  0.650917\n",
      "6       NaN   NaN       NaN  0.085853  0.666890  0.127075  0.230079  0.787188\n",
      "7       NaN   NaN       NaN  0.262705  0.793772  0.039791  0.574616  0.131317\n",
      "8       NaN   NaN       NaN  0.778198  0.376550  0.239199  0.126734  0.633765\n",
      "9       NaN   NaN       NaN  0.307880  0.994660  0.796287  0.083348  0.801976\n"
     ]
    }
   ],
   "source": [
    "import pandas as pd\n",
    "import numpy as np\n",
    "\n",
    "data = pd.read_csv(data_file)\n",
    "\n",
    "# 添加更多的行和列\n",
    "# 为了演示，我们使用随机数填充新列\n",
    "additional_data = pd.DataFrame(np.random.rand(10, 5), columns=['A', 'B', 'C', 'D', 'E'])\n",
    "data = pd.concat([data, additional_data], axis=0)\n",
    "\n",
    "print(data)"
   ]
  },
  {
   "cell_type": "markdown",
   "id": "c0dcfee9",
   "metadata": {},
   "source": [
    "# 删除缺失值最多的列："
   ]
  },
  {
   "cell_type": "code",
   "execution_count": 19,
   "id": "3df64b8e",
   "metadata": {},
   "outputs": [
    {
     "name": "stdout",
     "output_type": "stream",
     "text": [
      "          A         B         C         D         E\n",
      "0       NaN       NaN       NaN       NaN       NaN\n",
      "1       NaN       NaN       NaN       NaN       NaN\n",
      "2       NaN       NaN       NaN       NaN       NaN\n",
      "3       NaN       NaN       NaN       NaN       NaN\n",
      "0  0.794112  0.971615  0.971912  0.196960  0.218427\n",
      "1  0.149058  0.436776  0.018542  0.773761  0.096223\n",
      "2  0.312132  0.919810  0.051403  0.760027  0.798478\n",
      "3  0.842144  0.721521  0.946694  0.849967  0.736572\n",
      "4  0.125328  0.998212  0.478494  0.063539  0.092507\n",
      "5  0.724749  0.549715  0.553334  0.388400  0.650917\n",
      "6  0.085853  0.666890  0.127075  0.230079  0.787188\n",
      "7  0.262705  0.793772  0.039791  0.574616  0.131317\n",
      "8  0.778198  0.376550  0.239199  0.126734  0.633765\n",
      "9  0.307880  0.994660  0.796287  0.083348  0.801976\n"
     ]
    }
   ],
   "source": [
    "# 计算每列的缺失值数量\n",
    "missing_counts = data.isnull().sum()\n",
    "\n",
    "# 找到缺失值最多的列\n",
    "max_missing = missing_counts.idxmax()\n",
    "\n",
    "# 删除该列\n",
    "data = data.drop(max_missing, axis=1)\n",
    "\n",
    "print(data)"
   ]
  },
  {
   "cell_type": "markdown",
   "id": "6277344a",
   "metadata": {},
   "source": [
    "# 将预处理后的数据集转换为张量："
   ]
  },
  {
   "cell_type": "code",
   "execution_count": 22,
   "id": "e9f35f48",
   "metadata": {},
   "outputs": [
    {
     "data": {
      "text/plain": [
       "tensor([[   nan,    nan,    nan,    nan,    nan],\n",
       "        [   nan,    nan,    nan,    nan,    nan],\n",
       "        [   nan,    nan,    nan,    nan,    nan],\n",
       "        [   nan,    nan,    nan,    nan,    nan],\n",
       "        [0.7941, 0.9716, 0.9719, 0.1970, 0.2184],\n",
       "        [0.1491, 0.4368, 0.0185, 0.7738, 0.0962],\n",
       "        [0.3121, 0.9198, 0.0514, 0.7600, 0.7985],\n",
       "        [0.8421, 0.7215, 0.9467, 0.8500, 0.7366],\n",
       "        [0.1253, 0.9982, 0.4785, 0.0635, 0.0925],\n",
       "        [0.7247, 0.5497, 0.5533, 0.3884, 0.6509],\n",
       "        [0.0859, 0.6669, 0.1271, 0.2301, 0.7872],\n",
       "        [0.2627, 0.7938, 0.0398, 0.5746, 0.1313],\n",
       "        [0.7782, 0.3766, 0.2392, 0.1267, 0.6338],\n",
       "        [0.3079, 0.9947, 0.7963, 0.0833, 0.8020]], dtype=torch.float64)"
      ]
     },
     "execution_count": 22,
     "metadata": {},
     "output_type": "execute_result"
    }
   ],
   "source": [
    "import torch\n",
    "\n",
    "# 假设所有剩余的数据都是数值型，直接转换为张量\n",
    "tensor_data = torch.tensor(data.values)\n",
    "\n",
    "tensor_data"
   ]
  }
 ],
 "metadata": {
  "kernelspec": {
   "display_name": "Python 3 (ipykernel)",
   "language": "python",
   "name": "python3"
  },
  "language_info": {
   "codemirror_mode": {
    "name": "ipython",
    "version": 3
   },
   "file_extension": ".py",
   "mimetype": "text/x-python",
   "name": "python",
   "nbconvert_exporter": "python",
   "pygments_lexer": "ipython3",
   "version": "3.11.5"
  }
 },
 "nbformat": 4,
 "nbformat_minor": 5
}
