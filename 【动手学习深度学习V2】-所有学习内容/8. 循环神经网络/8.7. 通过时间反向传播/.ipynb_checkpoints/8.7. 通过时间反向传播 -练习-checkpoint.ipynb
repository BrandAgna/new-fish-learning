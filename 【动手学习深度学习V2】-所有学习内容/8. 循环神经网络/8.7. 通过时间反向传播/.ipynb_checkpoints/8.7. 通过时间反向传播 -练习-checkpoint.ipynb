{
 "cells": [
  {
   "cell_type": "markdown",
   "id": "962fc6f3",
   "metadata": {
    "origin_pos": 0
   },
   "source": [
    "## 练习\n",
    "\n",
    "1. 假设我们拥有一个对称矩阵$\\mathbf{M} \\in \\mathbb{R}^{n \\times n}$，其特征值为$\\lambda_i$，对应的特征向量是$\\mathbf{v}_i$（$i = 1, \\ldots, n$）。通常情况下，假设特征值的序列顺序为$|\\lambda_i| \\geq |\\lambda_{i+1}|$。\n",
    "   1. 证明$\\mathbf{M}^k$拥有特征值$\\lambda_i^k$。\n",
    "   1. 证明对于一个随机向量$\\mathbf{x} \\in \\mathbb{R}^n$，$\\mathbf{M}^k \\mathbf{x}$将有较高概率与$\\mathbf{M}$的特征向量$\\mathbf{v}_1$在一条直线上。形式化这个证明过程。\n",
    "   1. 上述结果对于循环神经网络中的梯度意味着什么？\n",
    "1. 除了梯度截断，还有其他方法来应对循环神经网络中的梯度爆炸吗？"
   ]
  },
  {
   "cell_type": "markdown",
   "id": "5ea22481",
   "metadata": {},
   "source": [
    "### 练习 1\n",
    "\n",
    "#### A. 证明$\\mathbf{M}^k$拥有特征值$\\lambda_i^k$。\n",
    "\n",
    "证明：\n",
    "\n",
    "假设$\\mathbf{M}$是一个对称矩阵，且$\\mathbf{v}_i$是对应于特征值$\\lambda_i$的特征向量。这意味着$\\mathbf{M}\\mathbf{v}_i = \\lambda_i\\mathbf{v}_i$。我们需要证明对于任意的正整数$k$，$\\mathbf{M}^k$有特征值$\\lambda_i^k$。\n",
    "\n",
    "通过数学归纳法，对于$k=1$，显然$\\mathbf{M}\\mathbf{v}_i = \\lambda_i\\mathbf{v}_i$成立。\n",
    "\n",
    "假设对于某个$k$，$\\mathbf{M}^k\\mathbf{v}_i = \\lambda_i^k\\mathbf{v}_i$成立，那么对于$k+1$，\n",
    "\n",
    "$$\n",
    "\\mathbf{M}^{k+1}\\mathbf{v}_i = \\mathbf{M}(\\mathbf{M}^k\\mathbf{v}_i) = \\mathbf{M}(\\lambda_i^k\\mathbf{v}_i) = \\lambda_i^k(\\mathbf{M}\\mathbf{v}_i) = \\lambda_i^k\\lambda_i\\mathbf{v}_i = \\lambda_i^{k+1}\\mathbf{v}_i.\n",
    "$$\n",
    "\n",
    "因此，对于所有的$k$，$\\mathbf{M}^k$有特征值$\\lambda_i^k$。\n",
    "\n",
    "#### B. 证明$\\mathbf{M}^k \\mathbf{x}$将与$\\mathbf{M}$的特征向量$\\mathbf{v}_1$在一条直线上的概率较高。\n",
    "\n",
    "证明：\n",
    "\n",
    "设$\\mathbf{x}$是一个随机向量，可以表示为$\\mathbf{M}$的特征向量的线性组合：\n",
    "\n",
    "$$\n",
    "\\mathbf{x} = c_1\\mathbf{v}_1 + c_2\\mathbf{v}_2 + \\cdots + c_n\\mathbf{v}_n.\n",
    "$$\n",
    "\n",
    "应用$\\mathbf{M}^k$到$\\mathbf{x}$上，我们得到：\n",
    "\n",
    "$$\n",
    "\\mathbf{M}^k\\mathbf{x} = c_1\\lambda_1^k\\mathbf{v}_1 + c_2\\lambda_2^k\\mathbf{v}_2 + \\cdots + c_n\\lambda_n^k\\mathbf{v}_n.\n",
    "$$\n",
    "\n",
    "假设$|\\lambda_1| > |\\lambda_2| \\geq \\cdots \\geq |\\lambda_n|$，当$k$增大时，$\\lambda_1^k$相比于其他$\\lambda_i^k$（$i > 1$）的增长速度更快。因此，$\\mathbf{M}^k\\mathbf{x}$将越来越接近方向与$\\mathbf{v}_1$相同的向量。\n",
    "\n",
    "#### C. 对于循环神经网络中的梯度意味着什么？\n",
    "\n",
    "在循环神经网络中，如果权重矩阵的某个特征值的绝对值大于1，随着时间步的增加，与该特征值相对应的梯度成分会指数级增长，导致梯度爆炸。这是因为在反向传播过程中，梯度是通过连续乘以权重矩阵来传播的，类似于上面讨论的$\\mathbf{M}^k\\mathbf{x}$的情况。因此，为了避免梯度爆炸，需要仔细控制权重矩阵的特征值，或者使用梯度裁剪等技术来限制\n",
    "\n",
    "梯度的大小。\n",
    "\n",
    "### 练习 2\n",
    "\n",
    "除了梯度裁剪，循环神经网络中还可以通过以下方法来应对梯度爆炸：\n",
    "\n",
    "1. **使用LSTM或GRU结构**：这些结构设计有门控制机制，可以在一定程度上避免梯度爆炸和消失的问题。\n",
    "\n",
    "2. **降低学习率**：减小学习率可以减少每一步参数更新的幅度，从而控制梯度的增长。\n",
    "\n",
    "3. **正则化**：添加L1或L2正则化可以抑制模型复杂度，间接控制梯度的增长。\n",
    "\n",
    "4. **使用残差连接**：残差连接可以帮助梯度直接流动，避免在多层网络中的梯度弥散或爆炸。\n",
    "\n",
    "5. **改进的初始化方法**：使用如He初始化等方法可以在训练开始时保证梯度处于合适的范围。\n",
    "\n",
    "6. **梯度规范化**：规范化梯度使其具有固定的范数，以防止梯度过大。"
   ]
  },
  {
   "cell_type": "code",
   "execution_count": null,
   "id": "a5b18958",
   "metadata": {},
   "outputs": [],
   "source": []
  }
 ],
 "metadata": {
  "kernelspec": {
   "display_name": "Python 3 (ipykernel)",
   "language": "python",
   "name": "python3"
  },
  "language_info": {
   "codemirror_mode": {
    "name": "ipython",
    "version": 3
   },
   "file_extension": ".py",
   "mimetype": "text/x-python",
   "name": "python",
   "nbconvert_exporter": "python",
   "pygments_lexer": "ipython3",
   "version": "3.9.18"
  },
  "required_libs": []
 },
 "nbformat": 4,
 "nbformat_minor": 5
}
