{
 "cells": [
  {
   "cell_type": "code",
   "execution_count": 1,
   "id": "3b32e0ed",
   "metadata": {
    "execution": {
     "iopub.execute_input": "2023-08-18T06:58:10.528336Z",
     "iopub.status.busy": "2023-08-18T06:58:10.527597Z",
     "iopub.status.idle": "2023-08-18T06:58:12.493106Z",
     "shell.execute_reply": "2023-08-18T06:58:12.492193Z"
    },
    "origin_pos": 2,
    "tab": [
     "pytorch"
    ]
   },
   "outputs": [],
   "source": [
    "import torch\n",
    "from d2l import torch as d2l"
   ]
  },
  {
   "cell_type": "code",
   "execution_count": 2,
   "id": "cc0b1ab9",
   "metadata": {
    "execution": {
     "iopub.execute_input": "2023-08-18T06:58:12.497284Z",
     "iopub.status.busy": "2023-08-18T06:58:12.496796Z",
     "iopub.status.idle": "2023-08-18T06:58:12.510001Z",
     "shell.execute_reply": "2023-08-18T06:58:12.508927Z"
    },
    "origin_pos": 5,
    "tab": [
     "pytorch"
    ]
   },
   "outputs": [
    {
     "data": {
      "text/plain": [
       "tensor([[ 0.5561,  0.7982,  0.6987, -0.1780],\n",
       "        [-0.2712, -3.0206, -0.9942,  1.5089],\n",
       "        [-2.1740, -3.6385, -6.5009, -2.6022]])"
      ]
     },
     "execution_count": 2,
     "metadata": {},
     "output_type": "execute_result"
    }
   ],
   "source": [
    "X, W_xh = torch.normal(0, 1, (3, 1)), torch.normal(0, 1, (1, 4))\n",
    "H, W_hh = torch.normal(0, 1, (3, 4)), torch.normal(0, 1, (4, 4))\n",
    "torch.matmul(X, W_xh) + torch.matmul(H, W_hh)"
   ]
  },
  {
   "cell_type": "code",
   "execution_count": 3,
   "id": "1a310233",
   "metadata": {
    "execution": {
     "iopub.execute_input": "2023-08-18T06:58:12.513639Z",
     "iopub.status.busy": "2023-08-18T06:58:12.513360Z",
     "iopub.status.idle": "2023-08-18T06:58:12.520602Z",
     "shell.execute_reply": "2023-08-18T06:58:12.519678Z"
    },
    "origin_pos": 8,
    "tab": [
     "pytorch"
    ]
   },
   "outputs": [
    {
     "data": {
      "text/plain": [
       "tensor([[ 0.5561,  0.7982,  0.6987, -0.1780],\n",
       "        [-0.2712, -3.0206, -0.9942,  1.5089],\n",
       "        [-2.1740, -3.6385, -6.5009, -2.6022]])"
      ]
     },
     "execution_count": 3,
     "metadata": {},
     "output_type": "execute_result"
    }
   ],
   "source": [
    "torch.matmul(torch.cat((X, H), 1), torch.cat((W_xh, W_hh), 0))"
   ]
  }
 ],
 "metadata": {
  "kernelspec": {
   "display_name": "Python 3 (ipykernel)",
   "language": "python",
   "name": "python3"
  },
  "language_info": {
   "codemirror_mode": {
    "name": "ipython",
    "version": 3
   },
   "file_extension": ".py",
   "mimetype": "text/x-python",
   "name": "python",
   "nbconvert_exporter": "python",
   "pygments_lexer": "ipython3",
   "version": "3.9.18"
  },
  "required_libs": []
 },
 "nbformat": 4,
 "nbformat_minor": 5
}
