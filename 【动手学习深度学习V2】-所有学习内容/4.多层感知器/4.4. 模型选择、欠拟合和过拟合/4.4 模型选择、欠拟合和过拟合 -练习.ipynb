{
 "cells": [
  {
   "cell_type": "markdown",
   "id": "895c90dc",
   "metadata": {},
   "source": [
    "### 练习 1：多项式回归问题的解析解\n",
    "**答**：\n",
    "多项式回归问题理论上可以通过线性代数方法求解，即通过最小二乘法计算解析解。当模型的阶数至少与真实数据生成过程的阶数相等时，模型理论上可以完美拟合训练数据（零训练误差）。\n",
    "\n",
    "### 练习 2：模型选择与多项式的阶数\n",
    "为了展示不同多项式阶数对训练和测试损失的影响，可以修改`train`函数的调用，分别用不同阶数的多项式进行训练。\n",
    "\n",
    "```python\n",
    "# 使用不同阶数的多项式\n",
    "for i in range(1, max_degree + 1):\n",
    "    print(f'\\nTraining with poly_features up to degree {i}:')\n",
    "    train(poly_features[:n_train, :i], poly_features[n_train:, :i],\n",
    "          labels[:n_train], labels[n_train:])\n",
    "```\n",
    "\n",
    "### 练习 3：不对多项式特征$x^i$进行标准化的影响\n",
    "**答**：\n",
    "如果不对多项式特征$x^i$进行标准化，较高阶的特征将变得非常大，这可能导致数值不稳定，如梯度爆炸或消失。可以通过其他标准化技术来缓解，比如最大最小标准化（MinMax Scaling）或均值方差标准化（Standardization）。\n",
    "\n",
    "### 练习 4：泛化误差是否可能为零\n",
    "**答案**：\n",
    "在理论上，泛化误差可能为零，但在实际情况中这几乎不可能发生。这需要模型完美地学习了数据生成过程的所有规律，并且测试数据也完全符合这些规律。"
   ]
  },
  {
   "cell_type": "code",
   "execution_count": null,
   "id": "c2829683",
   "metadata": {},
   "outputs": [],
   "source": []
  }
 ],
 "metadata": {
  "kernelspec": {
   "display_name": "Python 3 (ipykernel)",
   "language": "python",
   "name": "python3"
  },
  "language_info": {
   "codemirror_mode": {
    "name": "ipython",
    "version": 3
   },
   "file_extension": ".py",
   "mimetype": "text/x-python",
   "name": "python",
   "nbconvert_exporter": "python",
   "pygments_lexer": "ipython3",
   "version": "3.9.18"
  },
  "required_libs": []
 },
 "nbformat": 4,
 "nbformat_minor": 5
}
