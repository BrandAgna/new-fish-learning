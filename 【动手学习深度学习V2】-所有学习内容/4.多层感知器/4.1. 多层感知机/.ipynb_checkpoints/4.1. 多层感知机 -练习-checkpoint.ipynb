{
 "cells": [
  {
   "cell_type": "markdown",
   "id": "c50c4b39",
   "metadata": {},
   "source": [
    "### 练习答案\n",
    "\n",
    "**1. pReLU激活函数的导数：**\n",
    "   - pReLU激活函数定义为 $f(x) = \\max(0, x) + \\alpha \\min(0, x)$。导数为：\n",
    "     \\[\n",
    "     f'(x) =\n",
    "     \\begin{cases}\n",
    "     1 & \\text{if } x > 0,\\\\\n",
    "     \\alpha & \\text{if } x < 0.\n",
    "     \\end{cases}\n",
    "     \\]\n",
    "\n",
    "**2. ReLU构成分段线性函数的证明：**\n",
    "   - ReLU函数是分段线性的，因为它将输入分为两部分：当输入大于0时是线性的，等于0时是恒定的。堆叠多层的ReLU（或pReLU）仍然会保持这个性质，因为线性函数的组合是线性的，而恒定函数的组合仍然是恒定的。\n",
    "\n",
    "**3. tanh和sigmoid关系的证明：**\n",
    "   - 使用tanh和sigmoid的定义，我们可以证明：\n",
    "     \\[\n",
    "     \\operatorname{tanh}(x) + 1 = \\frac{e^{x} - e^{-x}}{e^{x} + e^{-x}} + 1 = \\frac{2e^{x}}{e^{x} + e^{-x}} = 2 \\operatorname{sigmoid}(2x).\n",
    "     \\]\n",
    "\n",
    "**4. 非线性单元对小批量数据的影响：**\n",
    "   - 如果一个非线性单元一次应用于一个小批量的数据，可能会导致梯度消失或爆炸，特别是当激活函数的导数很小（接近0）或很大（远大于1）时。这会影响模型的训练稳定性和收敛性。"
   ]
  },
  {
   "cell_type": "code",
   "execution_count": null,
   "id": "5f853b3d",
   "metadata": {},
   "outputs": [],
   "source": []
  }
 ],
 "metadata": {
  "kernelspec": {
   "display_name": "Python 3 (ipykernel)",
   "language": "python",
   "name": "python3"
  },
  "language_info": {
   "codemirror_mode": {
    "name": "ipython",
    "version": 3
   },
   "file_extension": ".py",
   "mimetype": "text/x-python",
   "name": "python",
   "nbconvert_exporter": "python",
   "pygments_lexer": "ipython3",
   "version": "3.11.5"
  }
 },
 "nbformat": 4,
 "nbformat_minor": 5
}
