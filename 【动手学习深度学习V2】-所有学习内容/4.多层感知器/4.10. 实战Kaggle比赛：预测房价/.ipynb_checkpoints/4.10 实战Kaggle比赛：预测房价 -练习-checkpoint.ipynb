{
 "cells": [
  {
   "cell_type": "markdown",
   "id": "937f9e37",
   "metadata": {
    "origin_pos": 0
   },
   "source": [
    "# 实战Kaggle比赛：预测房价"
   ]
  },
  {
   "cell_type": "code",
   "execution_count": null,
   "id": "0a0dabfa",
   "metadata": {},
   "outputs": [],
   "source": [
    "import numpy as np\n",
    "import pandas as pd\n",
    "from sklearn.model_selection import train_test_split, cross_val_score\n",
    "from sklearn.metrics import mean_squared_error\n",
    "from sklearn.preprocessing import StandardScaler, OneHotEncoder\n",
    "from sklearn.compose import ColumnTransformer\n",
    "from sklearn.pipeline import Pipeline\n",
    "from sklearn.ensemble import RandomForestRegressor\n",
    "from sklearn.model_selection import GridSearchCV\n",
    "import xgboost as xgb"
   ]
  },
  {
   "cell_type": "code",
   "execution_count": null,
   "id": "3c5a1ba1",
   "metadata": {},
   "outputs": [],
   "source": [
    "# 加载数据\n",
    "train_data = pd.read_csv('kaggle_house_pred_train.csv')\n",
    "test_data = pd.read_csv('kaggle_house_pred_test.csv')\n",
    "\n",
    "# 填补缺失值\n",
    "train_data.fillna(train_data.mean(), inplace=True)\n",
    "test_data.fillna(test_data.mean(), inplace=True)\n",
    "\n",
    "# 分离特征和目标变量\n",
    "X = train_data.drop('SalePrice', axis=1)\n",
    "y = train_data['SalePrice']"
   ]
  },
  {
   "cell_type": "code",
   "execution_count": null,
   "id": "0afb18fc",
   "metadata": {},
   "outputs": [],
   "source": [
    "# 选择数值型和类别型特征\n",
    "numeric_features = X.select_dtypes(include=['int64', 'float64']).columns\n",
    "categorical_features = X.select_dtypes(include=['object']).columns\n",
    "\n",
    "# 创建预处理流程\n",
    "numeric_transformer = Pipeline(steps=[\n",
    "    ('scaler', StandardScaler())\n",
    "])\n",
    "\n",
    "categorical_transformer = Pipeline(steps=[\n",
    "    ('onehot', OneHotEncoder(handle_unknown='ignore'))\n",
    "])\n",
    "\n",
    "preprocessor = ColumnTransformer(\n",
    "    transformers=[\n",
    "        ('num', numeric_transformer, numeric_features),\n",
    "        ('cat', categorical_transformer, categorical_features)\n",
    "    ])"
   ]
  },
  {
   "cell_type": "code",
   "execution_count": null,
   "id": "8848d8d2",
   "metadata": {},
   "outputs": [],
   "source": [
    "# 定义模型（这里使用随机森林和XGBoost作为示例）\n",
    "rf_model = RandomForestRegressor(n_estimators=100)\n",
    "xgb_model = xgb.XGBRegressor(objective ='reg:squarederror', n_estimators=100)\n",
    "\n",
    "# 创建管道\n",
    "rf_pipeline = Pipeline(steps=[('preprocessor', preprocessor),\n",
    "                              ('model', rf_model)])\n",
    "\n",
    "xgb_pipeline = Pipeline(steps=[('preprocessor', preprocessor),\n",
    "                               ('model', xgb_model)])\n",
    "\n",
    "# 训练模型\n",
    "rf_pipeline.fit(X, y)\n",
    "xgb_pipeline.fit(X, y)"
   ]
  },
  {
   "cell_type": "code",
   "execution_count": null,
   "id": "684b5e51",
   "metadata": {},
   "outputs": [],
   "source": [
    "# 使用交叉验证评估模型\n",
    "rf_scores = cross_val_score(rf_pipeline, X, y, scoring='neg_mean_squared_error')\n",
    "xgb_scores = cross_val_score(xgb_pipeline, X, y, scoring='neg_mean_squared_error')\n",
    "\n",
    "# 输出评分\n",
    "print('Random Forest Mean Squared Error:', np.mean(np.sqrt(-rf_scores)))\n",
    "print('XGBoost Mean Squared Error:', np.mean(np.sqrt(-xgb_scores)))"
   ]
  },
  {
   "cell_type": "code",
   "execution_count": null,
   "id": "47b63f55",
   "metadata": {},
   "outputs": [],
   "source": [
    "# 使用表现最好的模型对测试集进行预测\n",
    "predictions = xgb_pipeline.predict(test_data)\n",
    "\n",
    "# 创建提交文件\n",
    "output = pd.DataFrame({'Id': test_data.Id, 'SalePrice': predictions})\n",
    "output.to_csv('submission.csv', index=False)"
   ]
  }
 ],
 "metadata": {
  "kernelspec": {
   "display_name": "Python 3 (ipykernel)",
   "language": "python",
   "name": "python3"
  },
  "language_info": {
   "codemirror_mode": {
    "name": "ipython",
    "version": 3
   },
   "file_extension": ".py",
   "mimetype": "text/x-python",
   "name": "python",
   "nbconvert_exporter": "python",
   "pygments_lexer": "ipython3",
   "version": "3.9.18"
  },
  "required_libs": []
 },
 "nbformat": 4,
 "nbformat_minor": 5
}
