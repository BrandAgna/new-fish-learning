{
 "cells": [
  {
   "cell_type": "markdown",
   "id": "06969ee4",
   "metadata": {
    "origin_pos": 0
   },
   "source": [
    "## 练习\n",
    "\n",
    "1. 我们可以把穷举搜索看作一种特殊的束搜索吗？为什么？\n",
    "1. 在 :numref:`sec_seq2seq`的机器翻译问题中应用束搜索。\n",
    "   束宽是如何影响预测的速度和结果的？\n",
    "1. 在 :numref:`sec_rnn_scratch`中，我们基于用户提供的前缀，\n",
    "   通过使用语言模型来生成文本。这个例子中使用了哪种搜索策略？可以改进吗？"
   ]
  },
  {
   "cell_type": "markdown",
   "id": "cccc567b",
   "metadata": {},
   "source": [
    "1. **我们可以把穷举搜索看作一种特殊的束搜索吗？为什么？**\n",
    "\n",
    "   穷举搜索（Exhaustive Search）可以被视为束搜索（Beam Search）的一个特殊情况。在束搜索中，我们在每一步保留了一定数量（束宽）的最佳候选项。如果这个束宽被设置为在每一步考虑所有可能的选项，那么束搜索就变成了穷举搜索。换句话说，当束宽等于所有可能候选项的数量时，束搜索等同于穷举搜索。但在实际应用中，由于计算资源的限制，穷举搜索通常是不可行的，特别是在词汇量大或序列较长的情况下。\n",
    "\n",
    "2. **在 :numref:`sec_seq2seq`的机器翻译问题中应用束搜索，束宽是如何影响预测的速度和结果的？**\n",
    "\n",
    "   在机器翻译中，束宽（Beam Width）是一个重要的超参数。增加束宽可以增加在每一步考虑的候选翻译序列的数量，这可能提高最终翻译质量，因为模型有更多的选项来选择最佳序列。然而，增加束宽也会显著增加计算成本和时间，因为模型需要评估和跟踪更多的候选序列。一个小的束宽会使搜索过程更快，但可能会错过更好的翻译选项。因此，选择合适的束宽是在预测质量和计算效率之间的一种权衡。\n",
    "\n",
    "3. **在 :numref:`sec_rnn_scratch`中，我们基于用户提供的前缀，通过使用语言模型来生成文本。这个例子中使用了哪种搜索策略？可以改进吗？**\n",
    "\n",
    "   在基于用户提供的前缀生成文本的场景中，通常使用的是贪心搜索（Greedy Search）策略。在贪心搜索中，模型在每一步选择概率最高的词元作为下一个词元。这种方法简单快速，但可能不总是生成最佳的整体序列，因为它不考虑更长范围内的词元选择。\n",
    "\n",
    "   为了改进这一过程，可以采用束搜索，这样模型在每一步可以考虑多个最有可能的词元，而不是只选择单个最有可能的词元。这样做可以提高生成文本的质量，尤其是在需要考虑长期依赖关系的复杂序列生成任务中。此外，还可以考虑使用采样方法，其中模型根据概率分布随机选择下一个词元，以增加生成文本的多样性和创造性。"
   ]
  },
  {
   "cell_type": "code",
   "execution_count": null,
   "id": "336ce24c",
   "metadata": {},
   "outputs": [],
   "source": []
  }
 ],
 "metadata": {
  "kernelspec": {
   "display_name": "Python 3 (ipykernel)",
   "language": "python",
   "name": "python3"
  },
  "language_info": {
   "codemirror_mode": {
    "name": "ipython",
    "version": 3
   },
   "file_extension": ".py",
   "mimetype": "text/x-python",
   "name": "python",
   "nbconvert_exporter": "python",
   "pygments_lexer": "ipython3",
   "version": "3.9.18"
  },
  "required_libs": []
 },
 "nbformat": 4,
 "nbformat_minor": 5
}
