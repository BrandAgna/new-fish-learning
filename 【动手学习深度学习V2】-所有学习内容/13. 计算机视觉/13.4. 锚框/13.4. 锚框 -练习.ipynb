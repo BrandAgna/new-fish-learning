{
 "cells": [
  {
   "cell_type": "markdown",
   "id": "a8b2d8f3",
   "metadata": {},
   "source": [
    "## 练习\n",
    "\n",
    "1. 在`multibox_prior`函数中更改`sizes`和`ratios`的值。生成的锚框有什么变化？\n",
    "1. 构建并可视化两个IoU为0.5的边界框。它们是怎样重叠的？\n",
    "1. 在 :numref:`subsec_labeling-anchor-boxes`和 :numref:`subsec_predicting-bounding-boxes-nms`中修改变量`anchors`，结果如何变化？\n",
    "1. 非极大值抑制是一种贪心算法，它通过*移除*来抑制预测的边界框。是否存在一种可能，被移除的一些框实际上是有用的？如何修改这个算法来柔和地抑制？可以参考Soft-NMS :cite:`Bodla.Singh.Chellappa.ea.2017`。\n",
    "1. 如果非手动，非最大限度的抑制可以被学习吗？"
   ]
  },
  {
   "cell_type": "markdown",
   "id": "39e8a9d8",
   "metadata": {},
   "source": [
    "1. **更改`multibox_prior`函数中的`sizes`和`ratios`的值**:\n",
    "   \n",
    "   在`multibox_prior`函数中，`sizes`和`ratios`参数用于定义锚框（anchor boxes）的尺寸和宽高比。更改这些值会影响生成的锚框的形状和大小。\n",
    "   \n",
    "   - 改变`sizes`会改变锚框的尺寸。例如，增大`sizes`中的值会生成更大的锚框。\n",
    "   - 改变`ratios`会改变锚框的宽高比。例如，一个比值大于1的`ratios`值会生成宽度大于高度的锚框，而小于1的值则相反。\n",
    "\n",
    "   通过调整这些参数，可以定制锚框以更好地适应特定类型的目标形状。\n",
    "\n",
    "2. **构建并可视化两个IoU为0.5的边界框**:\n",
    "   \n",
    "   IoU（Intersection over Union）是一种测量两个边界框重叠程度的指标。当两个边界框的IoU为0.5时，它意味着它们的交集区域是它们各自面积的一半。这种重叠可以通过让一个边界框的一半区域覆盖另一个边界框来实现。\n",
    "\n",
    "3. **修改变量`anchors`的结果**:\n",
    "   \n",
    "   在目标检测中，`anchors`指的是预定义的一组锚框。更改`anchors`会直接影响模型对不同尺寸和宽高比目标的检测能力。例如，如果`anchors`主要包含小尺寸的锚框，那么模型可能更适合检测小物体。\n",
    "\n",
    "4. **非极大值抑制（NMS）和Soft-NMS**:\n",
    "   \n",
    "   非极大值抑制是一种在目标检测中常用的方法，用于移除重叠的边界框。它是一种贪心算法，可能会移除实际有用的边界框。Soft-NMS是一种改进的方法，它不是完全移除边界框，而是根据重叠程度降低其置信度。这种方法可以减少错误移除正确的边界框的情况。\n",
    "\n",
    "5. **学习非极大值抑制**:\n",
    "   \n",
    "   在一些现代目标检测模型中，如YOLO v3或更高版本，以及某些基于区域的卷积神经网络（R-CNN）的变体中，非极大值抑制的一部分逻辑已经被集成到模型本身中。这意味着模型可以在一定程度上学习如何执行非极大值抑制，虽然在后处理阶段仍然可能需要传统的NMS步骤。完全学习化的NMS需要模型在训练过程中学习识别和处理重叠边界框，这通常涉及复杂的模型设计和训练策略。"
   ]
  }
 ],
 "metadata": {
  "kernelspec": {
   "display_name": "Python 3 (ipykernel)",
   "language": "python",
   "name": "python3"
  },
  "language_info": {
   "codemirror_mode": {
    "name": "ipython",
    "version": 3
   },
   "file_extension": ".py",
   "mimetype": "text/x-python",
   "name": "python",
   "nbconvert_exporter": "python",
   "pygments_lexer": "ipython3",
   "version": "3.9.18"
  }
 },
 "nbformat": 4,
 "nbformat_minor": 5
}
