{
 "cells": [
  {
   "cell_type": "markdown",
   "id": "a8b2d8f3",
   "metadata": {},
   "source": [
    "## 练习\n",
    "\n",
    "1. 在`multibox_prior`函数中更改`sizes`和`ratios`的值。生成的锚框有什么变化？\n",
    "1. 构建并可视化两个IoU为0.5的边界框。它们是怎样重叠的？\n",
    "1. 在 :numref:`subsec_labeling-anchor-boxes`和 :numref:`subsec_predicting-bounding-boxes-nms`中修改变量`anchors`，结果如何变化？\n",
    "1. 非极大值抑制是一种贪心算法，它通过*移除*来抑制预测的边界框。是否存在一种可能，被移除的一些框实际上是有用的？如何修改这个算法来柔和地抑制？可以参考Soft-NMS :cite:`Bodla.Singh.Chellappa.ea.2017`。\n",
    "1. 如果非手动，非最大限度的抑制可以被学习吗？\n"
   ]
  },
  {
   "cell_type": "code",
   "execution_count": null,
   "id": "878bd1d3",
   "metadata": {},
   "outputs": [],
   "source": []
  }
 ],
 "metadata": {
  "kernelspec": {
   "display_name": "Python 3 (ipykernel)",
   "language": "python",
   "name": "python3"
  },
  "language_info": {
   "codemirror_mode": {
    "name": "ipython",
    "version": 3
   },
   "file_extension": ".py",
   "mimetype": "text/x-python",
   "name": "python",
   "nbconvert_exporter": "python",
   "pygments_lexer": "ipython3",
   "version": "3.9.18"
  }
 },
 "nbformat": 4,
 "nbformat_minor": 5
}
