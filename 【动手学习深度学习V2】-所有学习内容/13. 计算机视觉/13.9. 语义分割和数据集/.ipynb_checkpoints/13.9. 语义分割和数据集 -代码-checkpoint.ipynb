{
 "cells": [
  {
   "cell_type": "code",
   "execution_count": 1,
   "id": "daac4844",
   "metadata": {
    "execution": {
     "iopub.execute_input": "2023-08-18T06:56:37.603612Z",
     "iopub.status.busy": "2023-08-18T06:56:37.603086Z",
     "iopub.status.idle": "2023-08-18T06:56:39.534129Z",
     "shell.execute_reply": "2023-08-18T06:56:39.533314Z"
    },
    "origin_pos": 2,
    "tab": [
     "pytorch"
    ]
   },
   "outputs": [],
   "source": [
    "%matplotlib inline\n",
    "import os\n",
    "import torch\n",
    "import torchvision\n",
    "from d2l import torch as d2l"
   ]
  },
  {
   "cell_type": "code",
   "execution_count": null,
   "id": "bd79e9c2",
   "metadata": {
    "execution": {
     "iopub.execute_input": "2023-08-18T06:56:39.538309Z",
     "iopub.status.busy": "2023-08-18T06:56:39.537665Z",
     "iopub.status.idle": "2023-08-18T06:58:05.677522Z",
     "shell.execute_reply": "2023-08-18T06:58:05.676613Z"
    },
    "origin_pos": 5,
    "tab": [
     "pytorch"
    ]
   },
   "outputs": [],
   "source": [
    "#@save\n",
    "d2l.DATA_HUB['voc2012'] = (d2l.DATA_URL + 'VOCtrainval_11-May-2012.tar',\n",
    "                           '4e443f8a2eca6b1dac8a6c57641b67dd40621a49')\n",
    "\n",
    "voc_dir = d2l.download_extract('voc2012', 'VOCdevkit/VOC2012')"
   ]
  },
  {
   "cell_type": "code",
   "execution_count": null,
   "id": "b39cdcf9",
   "metadata": {
    "execution": {
     "iopub.execute_input": "2023-08-18T06:58:05.681499Z",
     "iopub.status.busy": "2023-08-18T06:58:05.681220Z",
     "iopub.status.idle": "2023-08-18T06:58:11.042974Z",
     "shell.execute_reply": "2023-08-18T06:58:11.041446Z"
    },
    "origin_pos": 8,
    "tab": [
     "pytorch"
    ]
   },
   "outputs": [],
   "source": [
    "#@save\n",
    "def read_voc_images(voc_dir, is_train=True):\n",
    "    \"\"\"读取所有VOC图像并标注\"\"\"\n",
    "    txt_fname = os.path.join(voc_dir, 'ImageSets', 'Segmentation',\n",
    "                             'train.txt' if is_train else 'val.txt')\n",
    "    mode = torchvision.io.image.ImageReadMode.RGB\n",
    "    with open(txt_fname, 'r') as f:\n",
    "        images = f.read().split()\n",
    "    features, labels = [], []\n",
    "    for i, fname in enumerate(images):\n",
    "        features.append(torchvision.io.read_image(os.path.join(\n",
    "            voc_dir, 'JPEGImages', f'{fname}.jpg')))\n",
    "        labels.append(torchvision.io.read_image(os.path.join(\n",
    "            voc_dir, 'SegmentationClass' ,f'{fname}.png'), mode))\n",
    "    return features, labels\n",
    "\n",
    "train_features, train_labels = read_voc_images(voc_dir, True)"
   ]
  },
  {
   "cell_type": "code",
   "execution_count": null,
   "id": "6de5f355",
   "metadata": {
    "execution": {
     "iopub.execute_input": "2023-08-18T06:58:11.058847Z",
     "iopub.status.busy": "2023-08-18T06:58:11.057829Z",
     "iopub.status.idle": "2023-08-18T06:58:11.690152Z",
     "shell.execute_reply": "2023-08-18T06:58:11.689328Z"
    },
    "origin_pos": 12,
    "tab": [
     "pytorch"
    ]
   },
   "outputs": [],
   "source": [
    "n = 5\n",
    "imgs = train_features[0:n] + train_labels[0:n]\n",
    "imgs = [img.permute(1,2,0) for img in imgs]\n",
    "d2l.show_images(imgs, 2, n);"
   ]
  },
  {
   "cell_type": "code",
   "execution_count": null,
   "id": "8127e683",
   "metadata": {
    "execution": {
     "iopub.execute_input": "2023-08-18T06:58:11.694111Z",
     "iopub.status.busy": "2023-08-18T06:58:11.693331Z",
     "iopub.status.idle": "2023-08-18T06:58:11.700642Z",
     "shell.execute_reply": "2023-08-18T06:58:11.699767Z"
    },
    "origin_pos": 15,
    "tab": [
     "pytorch"
    ]
   },
   "outputs": [],
   "source": [
    "#@save\n",
    "VOC_COLORMAP = [[0, 0, 0], [128, 0, 0], [0, 128, 0], [128, 128, 0],\n",
    "                [0, 0, 128], [128, 0, 128], [0, 128, 128], [128, 128, 128],\n",
    "                [64, 0, 0], [192, 0, 0], [64, 128, 0], [192, 128, 0],\n",
    "                [64, 0, 128], [192, 0, 128], [64, 128, 128], [192, 128, 128],\n",
    "                [0, 64, 0], [128, 64, 0], [0, 192, 0], [128, 192, 0],\n",
    "                [0, 64, 128]]\n",
    "\n",
    "#@save\n",
    "VOC_CLASSES = ['background', 'aeroplane', 'bicycle', 'bird', 'boat',\n",
    "               'bottle', 'bus', 'car', 'cat', 'chair', 'cow',\n",
    "               'diningtable', 'dog', 'horse', 'motorbike', 'person',\n",
    "               'potted plant', 'sheep', 'sofa', 'train', 'tv/monitor']"
   ]
  },
  {
   "cell_type": "code",
   "execution_count": null,
   "id": "36949805",
   "metadata": {
    "execution": {
     "iopub.execute_input": "2023-08-18T06:58:11.704036Z",
     "iopub.status.busy": "2023-08-18T06:58:11.703567Z",
     "iopub.status.idle": "2023-08-18T06:58:11.710356Z",
     "shell.execute_reply": "2023-08-18T06:58:11.709284Z"
    },
    "origin_pos": 18,
    "tab": [
     "pytorch"
    ]
   },
   "outputs": [],
   "source": [
    "#@save\n",
    "def voc_colormap2label():\n",
    "    \"\"\"构建从RGB到VOC类别索引的映射\"\"\"\n",
    "    colormap2label = torch.zeros(256 ** 3, dtype=torch.long)\n",
    "    for i, colormap in enumerate(VOC_COLORMAP):\n",
    "        colormap2label[\n",
    "            (colormap[0] * 256 + colormap[1]) * 256 + colormap[2]] = i\n",
    "    return colormap2label\n",
    "\n",
    "#@save\n",
    "def voc_label_indices(colormap, colormap2label):\n",
    "    \"\"\"将VOC标签中的RGB值映射到它们的类别索引\"\"\"\n",
    "    colormap = colormap.permute(1, 2, 0).numpy().astype('int32')\n",
    "    idx = ((colormap[:, :, 0] * 256 + colormap[:, :, 1]) * 256\n",
    "           + colormap[:, :, 2])\n",
    "    return colormap2label[idx]"
   ]
  },
  {
   "cell_type": "code",
   "execution_count": null,
   "id": "8aea3591",
   "metadata": {
    "execution": {
     "iopub.execute_input": "2023-08-18T06:58:11.713954Z",
     "iopub.status.busy": "2023-08-18T06:58:11.713226Z",
     "iopub.status.idle": "2023-08-18T06:58:11.740434Z",
     "shell.execute_reply": "2023-08-18T06:58:11.739332Z"
    },
    "origin_pos": 21,
    "tab": [
     "pytorch"
    ]
   },
   "outputs": [],
   "source": [
    "y = voc_label_indices(train_labels[0], voc_colormap2label())\n",
    "y[105:115, 130:140], VOC_CLASSES[1]"
   ]
  },
  {
   "cell_type": "code",
   "execution_count": null,
   "id": "747378f7",
   "metadata": {
    "execution": {
     "iopub.execute_input": "2023-08-18T06:58:11.745126Z",
     "iopub.status.busy": "2023-08-18T06:58:11.744585Z",
     "iopub.status.idle": "2023-08-18T06:58:11.749914Z",
     "shell.execute_reply": "2023-08-18T06:58:11.749104Z"
    },
    "origin_pos": 24,
    "tab": [
     "pytorch"
    ]
   },
   "outputs": [],
   "source": [
    "#@save\n",
    "def voc_rand_crop(feature, label, height, width):\n",
    "    \"\"\"随机裁剪特征和标签图像\"\"\"\n",
    "    rect = torchvision.transforms.RandomCrop.get_params(\n",
    "        feature, (height, width))\n",
    "    feature = torchvision.transforms.functional.crop(feature, *rect)\n",
    "    label = torchvision.transforms.functional.crop(label, *rect)\n",
    "    return feature, label"
   ]
  },
  {
   "cell_type": "code",
   "execution_count": null,
   "id": "19f90bad",
   "metadata": {
    "execution": {
     "iopub.execute_input": "2023-08-18T06:58:11.754060Z",
     "iopub.status.busy": "2023-08-18T06:58:11.753536Z",
     "iopub.status.idle": "2023-08-18T06:58:12.181252Z",
     "shell.execute_reply": "2023-08-18T06:58:12.180465Z"
    },
    "origin_pos": 27,
    "tab": [
     "pytorch"
    ]
   },
   "outputs": [],
   "source": [
    "imgs = []\n",
    "for _ in range(n):\n",
    "    imgs += voc_rand_crop(train_features[0], train_labels[0], 200, 300)\n",
    "\n",
    "imgs = [img.permute(1, 2, 0) for img in imgs]\n",
    "d2l.show_images(imgs[::2] + imgs[1::2], 2, n);"
   ]
  },
  {
   "cell_type": "code",
   "execution_count": null,
   "id": "82139d78",
   "metadata": {
    "execution": {
     "iopub.execute_input": "2023-08-18T06:58:12.184986Z",
     "iopub.status.busy": "2023-08-18T06:58:12.184395Z",
     "iopub.status.idle": "2023-08-18T06:58:12.192756Z",
     "shell.execute_reply": "2023-08-18T06:58:12.192015Z"
    },
    "origin_pos": 31,
    "tab": [
     "pytorch"
    ]
   },
   "outputs": [],
   "source": [
    "#@save\n",
    "class VOCSegDataset(torch.utils.data.Dataset):\n",
    "    \"\"\"一个用于加载VOC数据集的自定义数据集\"\"\"\n",
    "\n",
    "    def __init__(self, is_train, crop_size, voc_dir):\n",
    "        self.transform = torchvision.transforms.Normalize(\n",
    "            mean=[0.485, 0.456, 0.406], std=[0.229, 0.224, 0.225])\n",
    "        self.crop_size = crop_size\n",
    "        features, labels = read_voc_images(voc_dir, is_train=is_train)\n",
    "        self.features = [self.normalize_image(feature)\n",
    "                         for feature in self.filter(features)]\n",
    "        self.labels = self.filter(labels)\n",
    "        self.colormap2label = voc_colormap2label()\n",
    "        print('read ' + str(len(self.features)) + ' examples')\n",
    "\n",
    "    def normalize_image(self, img):\n",
    "        return self.transform(img.float() / 255)\n",
    "\n",
    "    def filter(self, imgs):\n",
    "        return [img for img in imgs if (\n",
    "            img.shape[1] >= self.crop_size[0] and\n",
    "            img.shape[2] >= self.crop_size[1])]\n",
    "\n",
    "    def __getitem__(self, idx):\n",
    "        feature, label = voc_rand_crop(self.features[idx], self.labels[idx],\n",
    "                                       *self.crop_size)\n",
    "        return (feature, voc_label_indices(label, self.colormap2label))\n",
    "\n",
    "    def __len__(self):\n",
    "        return len(self.features)"
   ]
  },
  {
   "cell_type": "code",
   "execution_count": null,
   "id": "79b88eeb",
   "metadata": {
    "execution": {
     "iopub.execute_input": "2023-08-18T06:58:12.196249Z",
     "iopub.status.busy": "2023-08-18T06:58:12.195713Z",
     "iopub.status.idle": "2023-08-18T06:58:24.376223Z",
     "shell.execute_reply": "2023-08-18T06:58:24.375033Z"
    },
    "origin_pos": 34,
    "tab": [
     "pytorch"
    ]
   },
   "outputs": [],
   "source": [
    "crop_size = (320, 480)\n",
    "voc_train = VOCSegDataset(True, crop_size, voc_dir)\n",
    "voc_test = VOCSegDataset(False, crop_size, voc_dir)"
   ]
  },
  {
   "cell_type": "code",
   "execution_count": null,
   "id": "0c447d3b",
   "metadata": {
    "execution": {
     "iopub.execute_input": "2023-08-18T06:58:24.381208Z",
     "iopub.status.busy": "2023-08-18T06:58:24.380885Z",
     "iopub.status.idle": "2023-08-18T06:58:26.002445Z",
     "shell.execute_reply": "2023-08-18T06:58:26.000841Z"
    },
    "origin_pos": 37,
    "tab": [
     "pytorch"
    ]
   },
   "outputs": [],
   "source": [
    "batch_size = 64\n",
    "train_iter = torch.utils.data.DataLoader(voc_train, batch_size, shuffle=True,\n",
    "                                    drop_last=True,\n",
    "                                    num_workers=d2l.get_dataloader_workers())\n",
    "for X, Y in train_iter:\n",
    "    print(X.shape)\n",
    "    print(Y.shape)\n",
    "    break"
   ]
  },
  {
   "cell_type": "code",
   "execution_count": null,
   "id": "ce15ca32",
   "metadata": {
    "execution": {
     "iopub.execute_input": "2023-08-18T06:58:26.008578Z",
     "iopub.status.busy": "2023-08-18T06:58:26.007726Z",
     "iopub.status.idle": "2023-08-18T06:58:26.017217Z",
     "shell.execute_reply": "2023-08-18T06:58:26.015893Z"
    },
    "origin_pos": 41,
    "tab": [
     "pytorch"
    ]
   },
   "outputs": [],
   "source": [
    "#@save\n",
    "def load_data_voc(batch_size, crop_size):\n",
    "    \"\"\"加载VOC语义分割数据集\"\"\"\n",
    "    voc_dir = d2l.download_extract('voc2012', os.path.join(\n",
    "        'VOCdevkit', 'VOC2012'))\n",
    "    num_workers = d2l.get_dataloader_workers()\n",
    "    train_iter = torch.utils.data.DataLoader(\n",
    "        VOCSegDataset(True, crop_size, voc_dir), batch_size,\n",
    "        shuffle=True, drop_last=True, num_workers=num_workers)\n",
    "    test_iter = torch.utils.data.DataLoader(\n",
    "        VOCSegDataset(False, crop_size, voc_dir), batch_size,\n",
    "        drop_last=True, num_workers=num_workers)\n",
    "    return train_iter, test_iter"
   ]
  },
  {
   "cell_type": "markdown",
   "id": "2ea20dfd",
   "metadata": {
    "origin_pos": 43
   },
   "source": []
  }
 ],
 "metadata": {
  "kernelspec": {
   "display_name": "Python 3 (ipykernel)",
   "language": "python",
   "name": "python3"
  },
  "language_info": {
   "codemirror_mode": {
    "name": "ipython",
    "version": 3
   },
   "file_extension": ".py",
   "mimetype": "text/x-python",
   "name": "python",
   "nbconvert_exporter": "python",
   "pygments_lexer": "ipython3",
   "version": "3.9.18"
  },
  "required_libs": []
 },
 "nbformat": 4,
 "nbformat_minor": 5
}
