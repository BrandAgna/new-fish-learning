{
 "cells": [
  {
   "cell_type": "markdown",
   "id": "a191613c",
   "metadata": {},
   "source": [
    "## 练习\n",
    "\n",
    "1. 我们能否将目标检测视为回归问题（例如预测边界框和类别的概率）？可以参考YOLO模型 :cite:`Redmon.Divvala.Girshick.ea.2016`的设计。\n",
    "1. 将单发多框检测与本节介绍的方法进行比较。他们的主要区别是什么？可以参考 :cite:`Zhao.Zheng.Xu.ea.2019`中的图2。"
   ]
  },
  {
   "cell_type": "markdown",
   "id": "4af0c2b1",
   "metadata": {},
   "source": [
    "1. **将目标检测视为回归问题**:\n",
    "   - 目标检测可以被视为回归问题，特别是在预测边界框和类别的概率方面。YOLO（You Only Look Once）模型是这种方法的一个典型例子。在YOLO模型中，目标检测任务被转化为一个单一的回归问题，直接从图像像素到边界框坐标和类别概率的映射。\n",
    "   - YOLO将输入图像划分为网格，并对每个网格单元预测多个边界框和这些边界框的类别概率。每个边界框包含四个坐标值和一个置信度值，置信度值反映了边界框包含目标的概率和该边界框的准确度。\n",
    "   - 与将目标检测作为分类问题处理的方法（如基于区域的方法）不同，YOLO的这种回归方法允许它在推断时非常快速，这也是YOLO名字的由来。\n",
    "\n",
    "2. **单发多框检测（SSD）与本节介绍的方法比较**:\n",
    "   - SSD和YOLO都属于一步检测器（one-stage detectors），这意味着它们直接从图像数据预测边界框和类别，不需要像两步检测器（例如Faster R-CNN）那样的区域建议步骤。\n",
    "   - SSD的主要特点是它在多个尺度上的特征图上执行边界框的预测，这允许它检测不同大小的物体。SSD为每个特征图位置的每个锚框分配一组默认边界框，并调整这些边界框以更好地匹配目标对象。\n",
    "   - 相比之下，YOLO通常在单个尺度上进行预测，并依赖于其网格单元和每个单元预测的边界框。YOLO的优势在于速度快，但在处理小物体方面可能不如SSD那么准确。"
   ]
  }
 ],
 "metadata": {
  "kernelspec": {
   "display_name": "Python 3 (ipykernel)",
   "language": "python",
   "name": "python3"
  },
  "language_info": {
   "codemirror_mode": {
    "name": "ipython",
    "version": 3
   },
   "file_extension": ".py",
   "mimetype": "text/x-python",
   "name": "python",
   "nbconvert_exporter": "python",
   "pygments_lexer": "ipython3",
   "version": "3.9.18"
  }
 },
 "nbformat": 4,
 "nbformat_minor": 5
}
