{
 "cells": [
  {
   "cell_type": "code",
   "execution_count": 1,
   "id": "52b05409",
   "metadata": {
    "execution": {
     "iopub.execute_input": "2023-08-18T07:03:10.049147Z",
     "iopub.status.busy": "2023-08-18T07:03:10.048156Z",
     "iopub.status.idle": "2023-08-18T07:03:11.581462Z",
     "shell.execute_reply": "2023-08-18T07:03:11.580563Z"
    },
    "origin_pos": 2,
    "tab": [
     "pytorch"
    ]
   },
   "outputs": [
    {
     "data": {
      "text/plain": [
       "tensor([[[[ 0.,  1.,  2.,  3.],\n",
       "          [ 4.,  5.,  6.,  7.],\n",
       "          [ 8.,  9., 10., 11.],\n",
       "          [12., 13., 14., 15.]]]])"
      ]
     },
     "execution_count": 1,
     "metadata": {},
     "output_type": "execute_result"
    }
   ],
   "source": [
    "import torch\n",
    "import torchvision\n",
    "\n",
    "X = torch.arange(16.).reshape(1, 1, 4, 4)\n",
    "X"
   ]
  },
  {
   "cell_type": "code",
   "execution_count": 2,
   "id": "d5f4463d",
   "metadata": {
    "execution": {
     "iopub.execute_input": "2023-08-18T07:03:11.585300Z",
     "iopub.status.busy": "2023-08-18T07:03:11.584758Z",
     "iopub.status.idle": "2023-08-18T07:03:11.589192Z",
     "shell.execute_reply": "2023-08-18T07:03:11.588365Z"
    },
    "origin_pos": 6,
    "tab": [
     "pytorch"
    ]
   },
   "outputs": [],
   "source": [
    "rois = torch.Tensor([[0, 0, 0, 20, 20], [0, 0, 10, 30, 30]])"
   ]
  },
  {
   "cell_type": "code",
   "execution_count": 3,
   "id": "9c4ab6ca",
   "metadata": {
    "execution": {
     "iopub.execute_input": "2023-08-18T07:03:11.592473Z",
     "iopub.status.busy": "2023-08-18T07:03:11.592023Z",
     "iopub.status.idle": "2023-08-18T07:03:11.598392Z",
     "shell.execute_reply": "2023-08-18T07:03:11.597591Z"
    },
    "origin_pos": 10,
    "tab": [
     "pytorch"
    ]
   },
   "outputs": [
    {
     "data": {
      "text/plain": [
       "tensor([[[[ 5.,  6.],\n",
       "          [ 9., 10.]]],\n",
       "\n",
       "\n",
       "        [[[ 9., 11.],\n",
       "          [13., 15.]]]])"
      ]
     },
     "execution_count": 3,
     "metadata": {},
     "output_type": "execute_result"
    }
   ],
   "source": [
    "torchvision.ops.roi_pool(X, rois, output_size=(2, 2), spatial_scale=0.1)"
   ]
  }
 ],
 "metadata": {
  "kernelspec": {
   "display_name": "Python 3 (ipykernel)",
   "language": "python",
   "name": "python3"
  },
  "language_info": {
   "codemirror_mode": {
    "name": "ipython",
    "version": 3
   },
   "file_extension": ".py",
   "mimetype": "text/x-python",
   "name": "python",
   "nbconvert_exporter": "python",
   "pygments_lexer": "ipython3",
   "version": "3.9.18"
  },
  "required_libs": []
 },
 "nbformat": 4,
 "nbformat_minor": 5
}
