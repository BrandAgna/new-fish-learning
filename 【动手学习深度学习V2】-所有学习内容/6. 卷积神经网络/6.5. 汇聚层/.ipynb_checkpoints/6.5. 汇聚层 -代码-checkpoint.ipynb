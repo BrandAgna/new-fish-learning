{
 "cells": [
  {
   "cell_type": "code",
   "execution_count": 1,
   "id": "292e979e",
   "metadata": {
    "execution": {
     "iopub.execute_input": "2023-08-18T07:02:18.192662Z",
     "iopub.status.busy": "2023-08-18T07:02:18.191844Z",
     "iopub.status.idle": "2023-08-18T07:02:20.224371Z",
     "shell.execute_reply": "2023-08-18T07:02:20.223413Z"
    },
    "origin_pos": 2,
    "tab": [
     "pytorch"
    ]
   },
   "outputs": [],
   "source": [
    "import torch\n",
    "from torch import nn\n",
    "from d2l import torch as d2l"
   ]
  },
  {
   "cell_type": "code",
   "execution_count": 2,
   "id": "fe35adac",
   "metadata": {
    "execution": {
     "iopub.execute_input": "2023-08-18T07:02:20.228639Z",
     "iopub.status.busy": "2023-08-18T07:02:20.227964Z",
     "iopub.status.idle": "2023-08-18T07:02:20.234155Z",
     "shell.execute_reply": "2023-08-18T07:02:20.233266Z"
    },
    "origin_pos": 4,
    "tab": [
     "pytorch"
    ]
   },
   "outputs": [],
   "source": [
    "def pool2d(X, pool_size, mode='max'):\n",
    "    p_h, p_w = pool_size\n",
    "    Y = torch.zeros((X.shape[0] - p_h + 1, X.shape[1] - p_w + 1))\n",
    "    for i in range(Y.shape[0]):\n",
    "        for j in range(Y.shape[1]):\n",
    "            if mode == 'max':\n",
    "                Y[i, j] = X[i: i + p_h, j: j + p_w].max()\n",
    "            elif mode == 'avg':\n",
    "                Y[i, j] = X[i: i + p_h, j: j + p_w].mean()\n",
    "    return Y"
   ]
  },
  {
   "cell_type": "code",
   "execution_count": 3,
   "id": "3a781c85",
   "metadata": {
    "execution": {
     "iopub.execute_input": "2023-08-18T07:02:20.237767Z",
     "iopub.status.busy": "2023-08-18T07:02:20.237211Z",
     "iopub.status.idle": "2023-08-18T07:02:20.268065Z",
     "shell.execute_reply": "2023-08-18T07:02:20.267212Z"
    },
    "origin_pos": 7,
    "tab": [
     "pytorch"
    ]
   },
   "outputs": [
    {
     "data": {
      "text/plain": [
       "tensor([[4., 5.],\n",
       "        [7., 8.]])"
      ]
     },
     "execution_count": 3,
     "metadata": {},
     "output_type": "execute_result"
    }
   ],
   "source": [
    "X = torch.tensor([[0.0, 1.0, 2.0], [3.0, 4.0, 5.0], [6.0, 7.0, 8.0]])\n",
    "pool2d(X, (2, 2))"
   ]
  },
  {
   "cell_type": "code",
   "execution_count": 4,
   "id": "4f9a1ffd",
   "metadata": {
    "execution": {
     "iopub.execute_input": "2023-08-18T07:02:20.272001Z",
     "iopub.status.busy": "2023-08-18T07:02:20.271411Z",
     "iopub.status.idle": "2023-08-18T07:02:20.277849Z",
     "shell.execute_reply": "2023-08-18T07:02:20.276928Z"
    },
    "origin_pos": 9,
    "tab": [
     "pytorch"
    ]
   },
   "outputs": [
    {
     "data": {
      "text/plain": [
       "tensor([[2., 3.],\n",
       "        [5., 6.]])"
      ]
     },
     "execution_count": 4,
     "metadata": {},
     "output_type": "execute_result"
    }
   ],
   "source": [
    "pool2d(X, (2, 2), 'avg')"
   ]
  },
  {
   "cell_type": "code",
   "execution_count": 5,
   "id": "140d08f5",
   "metadata": {
    "execution": {
     "iopub.execute_input": "2023-08-18T07:02:20.281458Z",
     "iopub.status.busy": "2023-08-18T07:02:20.280874Z",
     "iopub.status.idle": "2023-08-18T07:02:20.287391Z",
     "shell.execute_reply": "2023-08-18T07:02:20.286578Z"
    },
    "origin_pos": 12,
    "tab": [
     "pytorch"
    ]
   },
   "outputs": [
    {
     "data": {
      "text/plain": [
       "tensor([[[[ 0.,  1.,  2.,  3.],\n",
       "          [ 4.,  5.,  6.,  7.],\n",
       "          [ 8.,  9., 10., 11.],\n",
       "          [12., 13., 14., 15.]]]])"
      ]
     },
     "execution_count": 5,
     "metadata": {},
     "output_type": "execute_result"
    }
   ],
   "source": [
    "X = torch.arange(16, dtype=torch.float32).reshape((1, 1, 4, 4))\n",
    "X"
   ]
  },
  {
   "cell_type": "code",
   "execution_count": 6,
   "id": "a3cc01e3",
   "metadata": {
    "execution": {
     "iopub.execute_input": "2023-08-18T07:02:20.291052Z",
     "iopub.status.busy": "2023-08-18T07:02:20.290402Z",
     "iopub.status.idle": "2023-08-18T07:02:20.296276Z",
     "shell.execute_reply": "2023-08-18T07:02:20.295476Z"
    },
    "origin_pos": 17,
    "tab": [
     "pytorch"
    ]
   },
   "outputs": [
    {
     "data": {
      "text/plain": [
       "tensor([[[[10.]]]])"
      ]
     },
     "execution_count": 6,
     "metadata": {},
     "output_type": "execute_result"
    }
   ],
   "source": [
    "pool2d = nn.MaxPool2d(3)\n",
    "pool2d(X)"
   ]
  },
  {
   "cell_type": "code",
   "execution_count": 7,
   "id": "9c247428",
   "metadata": {
    "execution": {
     "iopub.execute_input": "2023-08-18T07:02:20.299965Z",
     "iopub.status.busy": "2023-08-18T07:02:20.299310Z",
     "iopub.status.idle": "2023-08-18T07:02:20.307455Z",
     "shell.execute_reply": "2023-08-18T07:02:20.306477Z"
    },
    "origin_pos": 22,
    "tab": [
     "pytorch"
    ]
   },
   "outputs": [
    {
     "data": {
      "text/plain": [
       "tensor([[[[ 5.,  7.],\n",
       "          [13., 15.]]]])"
      ]
     },
     "execution_count": 7,
     "metadata": {},
     "output_type": "execute_result"
    }
   ],
   "source": [
    "pool2d = nn.MaxPool2d(3, padding=1, stride=2)\n",
    "pool2d(X)"
   ]
  },
  {
   "cell_type": "code",
   "execution_count": 8,
   "id": "7c169b2f",
   "metadata": {
    "execution": {
     "iopub.execute_input": "2023-08-18T07:02:20.311794Z",
     "iopub.status.busy": "2023-08-18T07:02:20.311492Z",
     "iopub.status.idle": "2023-08-18T07:02:20.320399Z",
     "shell.execute_reply": "2023-08-18T07:02:20.319108Z"
    },
    "origin_pos": 30,
    "tab": [
     "pytorch"
    ]
   },
   "outputs": [
    {
     "data": {
      "text/plain": [
       "tensor([[[[ 5.,  7.],\n",
       "          [13., 15.]]]])"
      ]
     },
     "execution_count": 8,
     "metadata": {},
     "output_type": "execute_result"
    }
   ],
   "source": [
    "pool2d = nn.MaxPool2d((2, 3), stride=(2, 3), padding=(0, 1))\n",
    "pool2d(X)"
   ]
  },
  {
   "cell_type": "code",
   "execution_count": 9,
   "id": "c0a30a7f",
   "metadata": {
    "execution": {
     "iopub.execute_input": "2023-08-18T07:02:20.325617Z",
     "iopub.status.busy": "2023-08-18T07:02:20.324879Z",
     "iopub.status.idle": "2023-08-18T07:02:20.335303Z",
     "shell.execute_reply": "2023-08-18T07:02:20.334055Z"
    },
    "origin_pos": 35,
    "tab": [
     "pytorch"
    ]
   },
   "outputs": [
    {
     "data": {
      "text/plain": [
       "tensor([[[[ 0.,  1.,  2.,  3.],\n",
       "          [ 4.,  5.,  6.,  7.],\n",
       "          [ 8.,  9., 10., 11.],\n",
       "          [12., 13., 14., 15.]],\n",
       "\n",
       "         [[ 1.,  2.,  3.,  4.],\n",
       "          [ 5.,  6.,  7.,  8.],\n",
       "          [ 9., 10., 11., 12.],\n",
       "          [13., 14., 15., 16.]]]])"
      ]
     },
     "execution_count": 9,
     "metadata": {},
     "output_type": "execute_result"
    }
   ],
   "source": [
    "X = torch.cat((X, X + 1), 1)\n",
    "X"
   ]
  },
  {
   "cell_type": "code",
   "execution_count": 10,
   "id": "e534c8f3",
   "metadata": {
    "execution": {
     "iopub.execute_input": "2023-08-18T07:02:20.340529Z",
     "iopub.status.busy": "2023-08-18T07:02:20.339767Z",
     "iopub.status.idle": "2023-08-18T07:02:20.349365Z",
     "shell.execute_reply": "2023-08-18T07:02:20.348159Z"
    },
    "origin_pos": 39,
    "tab": [
     "pytorch"
    ]
   },
   "outputs": [
    {
     "data": {
      "text/plain": [
       "tensor([[[[ 5.,  7.],\n",
       "          [13., 15.]],\n",
       "\n",
       "         [[ 6.,  8.],\n",
       "          [14., 16.]]]])"
      ]
     },
     "execution_count": 10,
     "metadata": {},
     "output_type": "execute_result"
    }
   ],
   "source": [
    "pool2d = nn.MaxPool2d(3, padding=1, stride=2)\n",
    "pool2d(X)"
   ]
  }
 ],
 "metadata": {
  "kernelspec": {
   "display_name": "Python 3 (ipykernel)",
   "language": "python",
   "name": "python3"
  },
  "language_info": {
   "codemirror_mode": {
    "name": "ipython",
    "version": 3
   },
   "file_extension": ".py",
   "mimetype": "text/x-python",
   "name": "python",
   "nbconvert_exporter": "python",
   "pygments_lexer": "ipython3",
   "version": "3.9.18"
  },
  "required_libs": []
 },
 "nbformat": 4,
 "nbformat_minor": 5
}
