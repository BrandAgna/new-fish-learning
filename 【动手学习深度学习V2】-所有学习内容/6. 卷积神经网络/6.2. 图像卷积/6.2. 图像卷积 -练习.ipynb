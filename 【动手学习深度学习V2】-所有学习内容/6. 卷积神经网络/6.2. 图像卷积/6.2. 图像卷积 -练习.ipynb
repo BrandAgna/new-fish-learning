{
 "cells": [
  {
   "cell_type": "markdown",
   "id": "c3b4c74c",
   "metadata": {},
   "source": [
    "## 练习\n",
    "\n",
    "1. 构建一个具有对角线边缘的图像`X`。\n",
    "    1. 如果将本节中举例的卷积核`K`应用于`X`，会发生什么情况？\n",
    "    1. 如果转置`X`会发生什么？\n",
    "    1. 如果转置`K`会发生什么？\n",
    "1. 在我们创建的`Conv2D`自动求导时，有什么错误消息？\n",
    "1. 如何通过改变输入张量和卷积核张量，将互相关运算表示为矩阵乘法？\n",
    "1. 手工设计一些卷积核。\n",
    "    1. 二阶导数的核的形式是什么？\n",
    "    1. 积分的核的形式是什么？\n",
    "    1. 得到$d$次导数的最小核的大小是多少？\n"
   ]
  },
  {
   "cell_type": "markdown",
   "id": "f02cbcec",
   "metadata": {},
   "source": [
    "## 1. 构建一个具有对角线边缘的图像`X`。\n",
    "   1. 如果将本节中举例的卷积核`K`应用于`X`，会发生什么情况？\n",
    "   1. 如果转置`X`会发生什么？\n",
    "   1. 如果转置`K`会发生什么？"
   ]
  },
  {
   "cell_type": "code",
   "execution_count": 14,
   "id": "dbb89f93",
   "metadata": {},
   "outputs": [
    {
     "data": {
      "text/plain": [
       "tensor([[1., 1., 0., 0., 0., 0., 1., 1.],\n",
       "        [1., 1., 0., 0., 0., 0., 1., 1.],\n",
       "        [1., 1., 0., 0., 0., 0., 1., 1.],\n",
       "        [1., 1., 0., 0., 0., 0., 1., 1.],\n",
       "        [1., 1., 0., 0., 0., 0., 1., 1.],\n",
       "        [1., 1., 0., 0., 0., 0., 1., 1.]])"
      ]
     },
     "execution_count": 14,
     "metadata": {},
     "output_type": "execute_result"
    }
   ],
   "source": [
    "import torch\n",
    "\n",
    "def corr2d(X, K):  \n",
    "    \"\"\"计算二维互相关运算\"\"\"\n",
    "    h, w = K.shape\n",
    "    Y = torch.zeros((X.shape[0] - h + 1, X.shape[1] - w + 1))\n",
    "    for i in range(Y.shape[0]):\n",
    "        for j in range(Y.shape[1]):\n",
    "            Y[i, j] = (X[i:i + h, j:j + w] * K).sum()\n",
    "    return Y\n",
    "\n",
    "# 构建具有对角线边缘的图像X\n",
    "X = torch.ones((6, 8))\n",
    "X[:, 2:6] = 0\n",
    "X"
   ]
  },
  {
   "cell_type": "code",
   "execution_count": 15,
   "id": "79d2482f",
   "metadata": {},
   "outputs": [
    {
     "data": {
      "text/plain": [
       "tensor([[ 1., -1.]])"
      ]
     },
     "execution_count": 15,
     "metadata": {},
     "output_type": "execute_result"
    }
   ],
   "source": [
    "# 定义卷积核K\n",
    "K = torch.tensor([[1.0, -1.0]])\n",
    "K"
   ]
  },
  {
   "cell_type": "code",
   "execution_count": 10,
   "id": "8c6b2c82",
   "metadata": {},
   "outputs": [
    {
     "data": {
      "text/plain": [
       "tensor([[ 0.,  1.,  0.,  0.,  0., -1.,  0.],\n",
       "        [ 0.,  1.,  0.,  0.,  0., -1.,  0.],\n",
       "        [ 0.,  1.,  0.,  0.,  0., -1.,  0.],\n",
       "        [ 0.,  1.,  0.,  0.,  0., -1.,  0.],\n",
       "        [ 0.,  1.,  0.,  0.,  0., -1.,  0.],\n",
       "        [ 0.,  1.,  0.,  0.,  0., -1.,  0.]])"
      ]
     },
     "execution_count": 10,
     "metadata": {},
     "output_type": "execute_result"
    }
   ],
   "source": [
    "# 应用卷积核K到图像X\n",
    "corr2d_X_K = corr2d(X, K)\n",
    "corr2d_X_K"
   ]
  },
  {
   "cell_type": "code",
   "execution_count": 11,
   "id": "40e89f14",
   "metadata": {},
   "outputs": [
    {
     "data": {
      "text/plain": [
       "tensor([[0., 0., 0., 0., 0.],\n",
       "        [0., 0., 0., 0., 0.],\n",
       "        [0., 0., 0., 0., 0.],\n",
       "        [0., 0., 0., 0., 0.],\n",
       "        [0., 0., 0., 0., 0.],\n",
       "        [0., 0., 0., 0., 0.],\n",
       "        [0., 0., 0., 0., 0.],\n",
       "        [0., 0., 0., 0., 0.]])"
      ]
     },
     "execution_count": 11,
     "metadata": {},
     "output_type": "execute_result"
    }
   ],
   "source": [
    "# 转置X并应用卷积核K\n",
    "corr2d_X_t_K = corr2d(X.t(), K)\n",
    "corr2d_X_t_K"
   ]
  },
  {
   "cell_type": "code",
   "execution_count": 12,
   "id": "cfa51f39",
   "metadata": {},
   "outputs": [
    {
     "data": {
      "text/plain": [
       "tensor([[0., 0., 0., 0., 0., 0., 0., 0.],\n",
       "        [0., 0., 0., 0., 0., 0., 0., 0.],\n",
       "        [0., 0., 0., 0., 0., 0., 0., 0.],\n",
       "        [0., 0., 0., 0., 0., 0., 0., 0.],\n",
       "        [0., 0., 0., 0., 0., 0., 0., 0.]])"
      ]
     },
     "execution_count": 12,
     "metadata": {},
     "output_type": "execute_result"
    }
   ],
   "source": [
    "# 应用转置的卷积核K到图像X\n",
    "corr2d_X_K_t = corr2d(X, K.t())\n",
    "corr2d_X_K_t"
   ]
  },
  {
   "cell_type": "markdown",
   "id": "3696621f",
   "metadata": {},
   "source": [
    "## 2. 在我们创建的`Conv2D`自动求导时，有什么错误消息？"
   ]
  },
  {
   "cell_type": "markdown",
   "id": "84a447b0",
   "metadata": {},
   "source": [
    "`Conv2D'只能算2d的，会报错，源代码已经修改为可以执行的版本，详情请见【图像卷积-代码】"
   ]
  },
  {
   "cell_type": "markdown",
   "id": "823c7f2a",
   "metadata": {},
   "source": [
    "## 3. 如何通过改变输入张量和卷积核张量，将互相关运算表示为矩阵乘法？"
   ]
  },
  {
   "cell_type": "markdown",
   "id": "74605d66",
   "metadata": {},
   "source": [
    "互相关运算可以通过展开输入张量和卷积核张量来表示为矩阵乘法。在这种表示中，输入张量被转换成一个大矩阵，每行包含卷积核应用于输入的一个特定区域。卷积核被展开成一个向量，与此矩阵相乘，以执行所有卷积操作。"
   ]
  },
  {
   "cell_type": "markdown",
   "id": "a2503ed7",
   "metadata": {},
   "source": [
    "## 4. 手工设计一些卷积核。\n",
    "   1. 二阶导数的核的形式是什么？\n",
    "   1. 积分的核的形式是什么？\n",
    "   1. 得到$d$次导数的最小核的大小是多少？\n"
   ]
  },
  {
   "cell_type": "markdown",
   "id": "d29ed10e",
   "metadata": {},
   "source": [
    "#### A. 二阶导数的核的形式是什么？\n",
    "\n",
    "一个常见的二阶导数核是拉普拉斯核，它在二维上通常表示为：\n",
    "\n",
    "\\begin{bmatrix}\n",
    "1 & 1 & 1 \\\\\n",
    "1 & -8 & 1 \\\\\n",
    "1 & 1 & 1\n",
    "\\end{bmatrix}\n",
    "\n",
    "\n",
    "#### B. 积分的核的形式是什么？\n",
    "\n",
    "积分核在卷积操作中不常见，因为它涉及到全局操作而不是局部操作。然而，理论上，一个平均核（所有元素为1且平均化的核）可以用于模拟积分的效果。\n"
   ]
  },
  {
   "cell_type": "markdown",
   "id": "9b923cbc",
   "metadata": {},
   "source": [
    "#### C. 得到\\(d\\)次导数的最小核的大小是多少？\n",
    "\n",
    "得到\\(d\\)次导数的最小核的大小通常是\\(d+1\\)。例如，一阶导数（如Sobel或Prewitt算子）通常是3x3核，二阶导数（如拉普拉斯核）也可以是3x3核。\n",
    "\n",
    "现在，让我们使用Python实现第一个部分的卷积操作，来观察卷积核`K`对图像`X`的影响。\n",
    "\n",
    "根据卷积操作的结果，我们可以看到：\n",
    "\n",
    "1. 应用卷积核`K`到图像`X`得到的结果是：\n",
    "   \n",
    "   \\begin{bmatrix}\n",
    "   19 & 25 \\\\\n",
    "   37 & 43\n",
    "   \\end{bmatrix}\n",
    "   \n",
    "\n",
    "2. 将图像`X`转置后应用卷积核`K`得到的结果是：\n",
    "   \n",
    "   \\begin{bmatrix}\n",
    "   17 & 35 \\\\\n",
    "   23 & 41\n",
    "   \\end{bmatrix}\n",
    "\n",
    "\n",
    "3. 应用转置的卷积核`K`到图像`X`得到的结果是：\n",
    "   \n",
    "   \\begin{bmatrix}\n",
    "   17 & 23 \\\\\n",
    "   35 & 41\n",
    "   \\end{bmatrix}\n",
    "  \n",
    "\n",
    "具体实现代码如下"
   ]
  },
  {
   "cell_type": "code",
   "execution_count": 24,
   "id": "afc44173",
   "metadata": {},
   "outputs": [
    {
     "data": {
      "text/plain": [
       "tensor([[19., 25.],\n",
       "        [37., 43.]])"
      ]
     },
     "execution_count": 24,
     "metadata": {},
     "output_type": "execute_result"
    }
   ],
   "source": [
    "import torch\n",
    "\n",
    "# 定义二维互相关运算\n",
    "def corr2d(X, K):  \n",
    "    \"\"\"计算二维互相关运算\"\"\"\n",
    "    h, w = K.shape\n",
    "    Y = torch.zeros((X.shape[0] - h + 1, X.shape[1] - w + 1))\n",
    "    for i in range(Y.shape[0]):\n",
    "        for j in range(Y.shape[1]):\n",
    "            Y[i, j] = (X[i:i + h, j:j + w] * K).sum()\n",
    "    return Y\n",
    "\n",
    "# 构建一个具有对角线边缘的图像X\n",
    "X = torch.tensor([[0, 1, 2], [3, 4, 5], [6, 7, 8]])\n",
    "\n",
    "# 定义卷积核K\n",
    "K = torch.tensor([[0, 1], [2, 3]])\n",
    "\n",
    "# 应用卷积核K到图像X\n",
    "corr2d_X_K = corr2d(X, K)\n",
    "corr2d_X_K"
   ]
  },
  {
   "cell_type": "code",
   "execution_count": 25,
   "id": "e7702cec",
   "metadata": {},
   "outputs": [
    {
     "data": {
      "text/plain": [
       "tensor([[17., 35.],\n",
       "        [23., 41.]])"
      ]
     },
     "execution_count": 25,
     "metadata": {},
     "output_type": "execute_result"
    }
   ],
   "source": [
    "# 转置X并应用卷积核K\n",
    "corr2d_X_t_K = corr2d(X.t(), K)\n",
    "corr2d_X_t_K"
   ]
  },
  {
   "cell_type": "code",
   "execution_count": 26,
   "id": "9322435b",
   "metadata": {},
   "outputs": [
    {
     "data": {
      "text/plain": [
       "tensor([[17., 23.],\n",
       "        [35., 41.]])"
      ]
     },
     "execution_count": 26,
     "metadata": {},
     "output_type": "execute_result"
    }
   ],
   "source": [
    "# 应用转置的卷积核K到图像X\n",
    "corr2d_X_K_t = corr2d(X, K.t())\n",
    "corr2d_X_K_t"
   ]
  }
 ],
 "metadata": {
  "kernelspec": {
   "display_name": "Python 3 (ipykernel)",
   "language": "python",
   "name": "python3"
  },
  "language_info": {
   "codemirror_mode": {
    "name": "ipython",
    "version": 3
   },
   "file_extension": ".py",
   "mimetype": "text/x-python",
   "name": "python",
   "nbconvert_exporter": "python",
   "pygments_lexer": "ipython3",
   "version": "3.9.18"
  }
 },
 "nbformat": 4,
 "nbformat_minor": 5
}
