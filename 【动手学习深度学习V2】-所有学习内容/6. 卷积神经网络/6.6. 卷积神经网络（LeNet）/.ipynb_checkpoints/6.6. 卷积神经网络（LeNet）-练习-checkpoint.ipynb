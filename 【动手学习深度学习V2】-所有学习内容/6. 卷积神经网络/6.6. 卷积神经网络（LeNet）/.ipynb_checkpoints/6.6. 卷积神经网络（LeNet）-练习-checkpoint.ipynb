{
 "cells": [
  {
   "cell_type": "markdown",
   "id": "9fb75c5f",
   "metadata": {},
   "source": [
    "## 练习\n",
    "\n",
    "1. 将平均汇聚层替换为最大汇聚层，会发生什么？\n",
    "1. 尝试构建一个基于LeNet的更复杂的网络，以提高其准确性。\n",
    "    1. 调整卷积窗口大小。\n",
    "    1. 调整输出通道的数量。\n",
    "    1. 调整激活函数（如ReLU）。\n",
    "    1. 调整卷积层的数量。\n",
    "    1. 调整全连接层的数量。\n",
    "    1. 调整学习率和其他训练细节（例如，初始化和轮数）。\n",
    "1. 在MNIST数据集上尝试以上改进的网络。\n",
    "1. 显示不同输入（例如毛衣和外套）时，LeNet第一层和第二层的激活值。\n"
   ]
  },
  {
   "cell_type": "markdown",
   "id": "b36c5028",
   "metadata": {},
   "source": [
    "### 1. 将平均汇聚层替换为最大汇聚层，会发生什么？"
   ]
  },
  {
   "cell_type": "markdown",
   "id": "912d42ee",
   "metadata": {},
   "source": [
    "平均汇聚层和最大汇聚层在处理特征时有着不同的效果。平均汇聚层平滑处理特征，而最大汇聚层则关注最显著的特征。当平均汇聚层被最大汇聚层替换时，模型可能会变得对特征中的极端值更加敏感。这种改变可能会提高网络的性能，也可能降低，具体取决于数据集和任务。"
   ]
  },
  {
   "cell_type": "markdown",
   "id": "bc337ae0",
   "metadata": {},
   "source": [
    "### 2. 尝试构建一个基于LeNet的更复杂的网络，以提高其准确性。"
   ]
  },
  {
   "cell_type": "code",
   "execution_count": 7,
   "id": "3a24b733",
   "metadata": {},
   "outputs": [
    {
     "name": "stdout",
     "output_type": "stream",
     "text": [
      "Output shape: torch.Size([1, 10])\n"
     ]
    }
   ],
   "source": [
    "import torch\n",
    "from torch import nn\n",
    "\n",
    "# 修改后的LeNet\n",
    "class ModifiedLeNet(nn.Module):\n",
    "    def __init__(self):\n",
    "        super(ModifiedLeNet, self).__init__()\n",
    "        self.conv1 = nn.Conv2d(1, 10, kernel_size=5, padding=2)  # 调整卷积层输出通道\n",
    "        self.relu = nn.ReLU()  # 使用ReLU激活函数\n",
    "        self.pool = nn.MaxPool2d(kernel_size=2, stride=2)  # 使用最大汇聚层\n",
    "        self.conv2 = nn.Conv2d(10, 20, kernel_size=5)  # 增加输出通道\n",
    "        self.fc1 = nn.Linear(20 * 5 * 5, 120)  # 调整全连接层的输入\n",
    "        self.fc2 = nn.Linear(120, 84)\n",
    "        self.fc3 = nn.Linear(84, 10)  # 调整全连接层的数量\n",
    "\n",
    "    def forward(self, x):\n",
    "        x = self.pool(self.relu(self.conv1(x)))\n",
    "        x = self.pool(self.relu(self.conv2(x)))\n",
    "        x = x.view(-1, 20 * 5 * 5)  # 根据卷积层输出调整展平操作\n",
    "        x = self.relu(self.fc1(x))\n",
    "        x = self.relu(self.fc2(x))\n",
    "        x = self.fc3(x)\n",
    "        return x\n",
    "\n",
    "# 创建网络实例\n",
    "modified_net = ModifiedLeNet()\n",
    "\n",
    "# 示例输入\n",
    "X = torch.rand(size=(1, 1, 28, 28), dtype=torch.float32)\n",
    "output = modified_net(X)\n",
    "print('Output shape:', output.shape)"
   ]
  },
  {
   "cell_type": "markdown",
   "id": "35413643",
   "metadata": {},
   "source": [
    "### 3. 在MNIST数据集上尝试以上改进的网络。"
   ]
  },
  {
   "cell_type": "code",
   "execution_count": 6,
   "id": "9ec7f477",
   "metadata": {},
   "outputs": [
    {
     "name": "stdout",
     "output_type": "stream",
     "text": [
      "training on cuda:0\n",
      "epoch 1, loss 2.335, train acc 0.100, test acc 0.100\n",
      "epoch 2, loss 2.304, train acc 0.102, test acc 0.100\n",
      "epoch 3, loss 2.304, train acc 0.099, test acc 0.100\n",
      "epoch 4, loss 2.304, train acc 0.099, test acc 0.100\n",
      "epoch 5, loss 2.304, train acc 0.099, test acc 0.100\n",
      "epoch 6, loss 2.303, train acc 0.099, test acc 0.100\n",
      "epoch 7, loss 2.303, train acc 0.098, test acc 0.100\n",
      "epoch 8, loss 2.303, train acc 0.101, test acc 0.100\n",
      "epoch 9, loss 2.303, train acc 0.099, test acc 0.100\n",
      "epoch 10, loss 2.304, train acc 0.099, test acc 0.100\n"
     ]
    }
   ],
   "source": [
    "import torch\n",
    "from torch import nn\n",
    "from d2l import torch as d2l\n",
    "\n",
    "# 修改后的LeNet定义\n",
    "class ModifiedLeNet(nn.Module):\n",
    "    def __init__(self):\n",
    "        super(ModifiedLeNet, self).__init__()\n",
    "        self.conv1 = nn.Conv2d(1, 10, kernel_size=5, padding=2)\n",
    "        self.relu = nn.ReLU()\n",
    "        self.pool = nn.MaxPool2d(kernel_size=2, stride=2)\n",
    "        self.conv2 = nn.Conv2d(10, 20, kernel_size=5)\n",
    "        self.fc1 = nn.Linear(20 * 5 * 5, 120)\n",
    "        self.fc2 = nn.Linear(120, 84)\n",
    "        self.fc3 = nn.Linear(84, 10)\n",
    "\n",
    "    def forward(self, x):\n",
    "        x = self.pool(self.relu(self.conv1(x)))\n",
    "        x = self.pool(self.relu(self.conv2(x)))\n",
    "        x = x.view(-1, 20 * 5 * 5)\n",
    "        x = self.relu(self.fc1(x))\n",
    "        x = self.relu(self.fc2(x))\n",
    "        x = self.fc3(x)\n",
    "        return x\n",
    "\n",
    "# 加载MNIST数据集\n",
    "batch_size = 256\n",
    "train_iter, test_iter = d2l.load_data_fashion_mnist(batch_size)\n",
    "\n",
    "# 定义训练函数\n",
    "def train_ch6(net, train_iter, test_iter, num_epochs, lr, device):\n",
    "    \"\"\"用GPU训练模型(在第六章定义)\"\"\"\n",
    "    def init_weights(m):\n",
    "        if type(m) == nn.Linear or type(m) == nn.Conv2d:\n",
    "            nn.init.xavier_uniform_(m.weight)\n",
    "    net.apply(init_weights)\n",
    "    print('training on', device)\n",
    "    net.to(device)\n",
    "    optimizer = torch.optim.SGD(net.parameters(), lr=lr)\n",
    "    loss = nn.CrossEntropyLoss()\n",
    "    for epoch in range(num_epochs):\n",
    "        metric = d2l.Accumulator(3)\n",
    "        net.train()\n",
    "        for i, (X, y) in enumerate(train_iter):\n",
    "            X, y = X.to(device), y.to(device)\n",
    "            optimizer.zero_grad()\n",
    "            y_hat = net(X)\n",
    "            l = loss(y_hat, y)\n",
    "            l.backward()\n",
    "            optimizer.step()\n",
    "            metric.add(l * X.shape[0], d2l.accuracy(y_hat, y), X.shape[0])\n",
    "        train_l = metric[0] / metric[2]\n",
    "        train_acc = metric[1] / metric[2]\n",
    "        test_acc = evaluate_accuracy_gpu(net, test_iter, device)\n",
    "        print(f'epoch {epoch + 1}, loss {train_l:.3f}, train acc {train_acc:.3f}, test acc {test_acc:.3f}')\n",
    "\n",
    "# 定义GPU评估函数\n",
    "def evaluate_accuracy_gpu(net, data_iter, device=None):\n",
    "    \"\"\"使用GPU计算模型在数据集上的精度\"\"\"\n",
    "    if isinstance(net, nn.Module):\n",
    "        net.eval()  # 设置为评估模式\n",
    "        if not device:\n",
    "            device = next(iter(net.parameters())).device\n",
    "    # 正确预测的数量，总预测的数量\n",
    "    metric = d2l.Accumulator(2)\n",
    "    with torch.no_grad():\n",
    "        for X, y in data_iter:\n",
    "            if isinstance(X, list):\n",
    "                # BERT微调所需的（之后将介绍）\n",
    "                X = [x.to(device) for x in X]\n",
    "            else:\n",
    "                X = X.to(device)\n",
    "            y = y.to(device)\n",
    "            metric.add(d2l.accuracy(net(X), y), y.numel())\n",
    "    return metric[0] / metric[1]\n",
    "\n",
    "# 训练网络\n",
    "net = ModifiedLeNet()\n",
    "lr, num_epochs = 0.9, 10\n",
    "train_ch6(net, train_iter, test_iter, num_epochs, lr, d2l.try_gpu())"
   ]
  },
  {
   "cell_type": "markdown",
   "id": "260fcf8b",
   "metadata": {},
   "source": [
    "### 4. 显示LeNet不同层的激活值\n",
    "要查看不同输入（如毛衣和外套）在LeNet第一层和第二层的激活值，可以将网络的中间层输出可视化。这可以通过修改网络结构，使其在某个特定层输出激活值，然后将这些激活值绘制出来。"
   ]
  },
  {
   "cell_type": "code",
   "execution_count": 9,
   "id": "6b2ec82c",
   "metadata": {},
   "outputs": [],
   "source": [
    "import torch\n",
    "from torch import nn\n",
    "from torchvision import transforms\n",
    "from torchvision.datasets import FashionMNIST\n",
    "from torch.utils.data import DataLoader\n",
    "import matplotlib.pyplot as plt\n",
    "\n",
    "# 定义LeNet网络\n",
    "class LeNet(nn.Module):\n",
    "    def __init__(self):\n",
    "        super(LeNet, self).__init__()\n",
    "        self.conv1 = nn.Conv2d(1, 6, 5)  # 第一层卷积\n",
    "        self.pool = nn.MaxPool2d(2, 2)   # 汇聚层\n",
    "        self.conv2 = nn.Conv2d(6, 16, 5) # 第二层卷积\n",
    "        # 后面的全连接层在这里不是必需的，因为我们只关注卷积层的输出\n",
    "\n",
    "    def forward(self, x):\n",
    "        x = self.pool(F.relu(self.conv1(x)))\n",
    "        x = self.pool(F.relu(self.conv2(x)))\n",
    "        return x\n",
    "\n",
    "net = LeNet()"
   ]
  },
  {
   "cell_type": "code",
   "execution_count": 12,
   "id": "f9289dcf",
   "metadata": {},
   "outputs": [],
   "source": [
    "# 数据转换器\n",
    "transform = transforms.Compose([transforms.ToTensor(), transforms.Normalize((0.5,), (0.5,))])\n",
    "\n",
    "# 加载FashionMNIST数据集\n",
    "trainset = FashionMNIST(root='./data', train=True, download=True, transform=transform)\n",
    "trainloader = DataLoader(trainset, batch_size=10, shuffle=True)\n",
    "\n",
    "# 获取一批数据\n",
    "dataiter = iter(trainloader)\n",
    "images, labels = next(dataiter)"
   ]
  },
  {
   "cell_type": "code",
   "execution_count": 13,
   "id": "2d55abab",
   "metadata": {},
   "outputs": [
    {
     "data": {
      "image/png": "[encoded data removed]",
      "text/plain": [
       "<Figure size 2000x1000 with 6 Axes>"
      ]
     },
     "metadata": {},
     "output_type": "display_data"
    }
   ],
   "source": [
    "def visualize_activations(net, images, layer_num):\n",
    "    with torch.no_grad():\n",
    "        # 通过网络前向传播\n",
    "        output = images\n",
    "        for i in range(layer_num):\n",
    "            output = net._modules[list(net._modules.keys())[i]](output)\n",
    "        \n",
    "        # 可视化第 layer_num 层的激活值\n",
    "        plt.figure(figsize=(20, 10))\n",
    "        for i in range(output.shape[1]):\n",
    "            ax = plt.subplot(2, output.shape[1] // 2, i + 1)\n",
    "            ax.set_title(f\"Feature Map {i+1}\")\n",
    "            ax.imshow(output[0][i].cpu().numpy(), cmap='gray')\n",
    "            plt.axis('off')\n",
    "        plt.show()\n",
    "\n",
    "# 可视化第一层的激活值\n",
    "visualize_activations(net, images, 1)"
   ]
  },
  {
   "cell_type": "code",
   "execution_count": 14,
   "id": "93e1cb82",
   "metadata": {},
   "outputs": [
    {
     "data": {
      "image/png": "[encoded data removed]",
      "text/plain": [
       "<Figure size 2000x1000 with 6 Axes>"
      ]
     },
     "metadata": {},
     "output_type": "display_data"
    }
   ],
   "source": [
    "# 可视化第二层的激活值\n",
    "visualize_activations(net, images, 2)"
   ]
  },
  {
   "cell_type": "code",
   "execution_count": null,
   "id": "6d0c2090",
   "metadata": {},
   "outputs": [],
   "source": []
  }
 ],
 "metadata": {
  "kernelspec": {
   "display_name": "Python 3 (ipykernel)",
   "language": "python",
   "name": "python3"
  },
  "language_info": {
   "codemirror_mode": {
    "name": "ipython",
    "version": 3
   },
   "file_extension": ".py",
   "mimetype": "text/x-python",
   "name": "python",
   "nbconvert_exporter": "python",
   "pygments_lexer": "ipython3",
   "version": "3.9.18"
  }
 },
 "nbformat": 4,
 "nbformat_minor": 5
}
