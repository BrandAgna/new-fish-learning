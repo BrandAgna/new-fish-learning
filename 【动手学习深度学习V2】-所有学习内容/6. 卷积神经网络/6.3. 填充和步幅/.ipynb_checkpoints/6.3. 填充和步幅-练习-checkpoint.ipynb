{
 "cells": [
  {
   "cell_type": "markdown",
   "id": "f86fe0db",
   "metadata": {},
   "source": [
    "## 练习\n",
    "\n",
    "1. 对于本节中的最后一个示例，计算其输出形状，以查看它是否与实验结果一致。\n",
    "1. 在本节中的实验中，试一试其他填充和步幅组合。\n",
    "1. 对于音频信号，步幅$2$说明什么？\n",
    "1. 步幅大于$1$的计算优势是什么？\n"
   ]
  },
  {
   "cell_type": "markdown",
   "id": "1d050330",
   "metadata": {},
   "source": [
    "## 1. 对于本节中的最后一个示例，计算其输出形状，以查看它是否与实验结果一致。"
   ]
  },
  {
   "attachments": {},
   "cell_type": "markdown",
   "id": "000cb726",
   "metadata": {},
   "source": [
    "最后一个示例中使用的卷积层设置是：\n",
    "\n",
    "- 输入大小: 8x8\n",
    "- 卷积核大小: 3x5\n",
    "- 填充: 0行, 1列\n",
    "- 步幅: 3行, 4列"
   ]
  },
  {
   "cell_type": "markdown",
   "id": "5e6abf70",
   "metadata": {},
   "source": [
    "## 2. 在本节中的实验中，试一试其他填充和步幅组合。"
   ]
  },
  {
   "cell_type": "markdown",
   "id": "5f9cfc32",
   "metadata": {},
   "source": [
    "以尝试"
   ]
  },
  {
   "cell_type": "markdown",
   "id": "16a30786",
   "metadata": {},
   "source": [
    "## 3. 对于音频信号，步幅$2$说明什么？"
   ]
  },
  {
   "cell_type": "markdown",
   "id": "31a498a2",
   "metadata": {},
   "source": [
    "在音频处理中，步幅代表卷积核移动的样本点数。步幅为2意味着卷积核每次移动两个样本点。这种设置可以减少输出的时间分辨率，从而减少计算量和输出数据的大小。这在某些情况下可能导致信息的损失，但也可能帮助模型更加关注于音频信号中的长期模式。\n"
   ]
  },
  {
   "cell_type": "markdown",
   "id": "82caf7b0",
   "metadata": {},
   "source": [
    "## 4. 步幅大于$1$的计算优势是什么？"
   ]
  },
  {
   "cell_type": "markdown",
   "id": "a0915ae7",
   "metadata": {},
   "source": [
    "步幅大于1时，卷积核跳过某些输入单元进行采样。这减少了每层的计算量和模型参数的数量，从而提高了计算效率。此外，步幅大于1还可以降低输出特征图的空间分辨率，有助于模型学习更抽象的特征表示。"
   ]
  }
 ],
 "metadata": {
  "kernelspec": {
   "display_name": "Python 3 (ipykernel)",
   "language": "python",
   "name": "python3"
  },
  "language_info": {
   "codemirror_mode": {
    "name": "ipython",
    "version": 3
   },
   "file_extension": ".py",
   "mimetype": "text/x-python",
   "name": "python",
   "nbconvert_exporter": "python",
   "pygments_lexer": "ipython3",
   "version": "3.9.18"
  }
 },
 "nbformat": 4,
 "nbformat_minor": 5
}
