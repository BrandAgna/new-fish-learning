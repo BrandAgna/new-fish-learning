{
 "cells": [
  {
   "cell_type": "markdown",
   "id": "6189b50f",
   "metadata": {},
   "source": [
    "# 练习\n",
    "1. 设计一个接受输入并计算张量降维的层，它返回$y_k = \\sum_{i, j} W_{ijk} x_i x_j$。\n",
    "2. 设计一个返回输入数据的傅立叶系数前半部分的层。"
   ]
  },
  {
   "cell_type": "markdown",
   "id": "5f2b4f2a",
   "metadata": {},
   "source": [
    "1. 设计一个接受输入并计算张量降维的层，它返回$y_k = \\sum_{i, j} W_{ijk} x_i x_j$。"
   ]
  },
  {
   "cell_type": "code",
   "execution_count": 2,
   "id": "c7a3450a",
   "metadata": {},
   "outputs": [
    {
     "name": "stdout",
     "output_type": "stream",
     "text": [
      "tensor([[-2.3025],\n",
      "        [ 0.0727]], grad_fn=<CopySlices>)\n"
     ]
    }
   ],
   "source": [
    "import torch\n",
    "from torch import nn\n",
    "\n",
    "class TensorReductionLayer(nn.Module):\n",
    "    def __init__(self, in_features, out_features):\n",
    "        super(TensorReductionLayer, self).__init__()\n",
    "        self.weights = nn.Parameter(torch.randn(in_features, in_features, out_features))\n",
    "\n",
    "    def forward(self, x):\n",
    "        out = torch.zeros(x.shape[0], self.weights.shape[2])\n",
    "        for k in range(self.weights.shape[2]):\n",
    "            for i in range(x.shape[1]):\n",
    "                for j in range(x.shape[1]):\n",
    "                    out[:, k] += self.weights[i, j, k] * x[:, i] * x[:, j]\n",
    "        return out\n",
    "\n",
    "# 示例使用\n",
    "input_features = 4\n",
    "output_features = 1\n",
    "batch_size = 2\n",
    "\n",
    "tensor_reduction_layer = TensorReductionLayer(input_features, output_features)\n",
    "X = torch.rand(batch_size, input_features)\n",
    "output = tensor_reduction_layer(X)\n",
    "print(output)\n"
   ]
  },
  {
   "cell_type": "markdown",
   "id": "d33f3b19",
   "metadata": {},
   "source": [
    "2. 设计一个返回输入数据的傅立叶系数前半部分的层。"
   ]
  },
  {
   "cell_type": "code",
   "execution_count": 3,
   "id": "4db6a050",
   "metadata": {},
   "outputs": [
    {
     "name": "stdout",
     "output_type": "stream",
     "text": [
      "tensor([[ 2.2043+0.0000j,  0.4804-0.2338j],\n",
      "        [ 0.6692+0.0000j, -0.0241-0.0496j]])\n"
     ]
    }
   ],
   "source": [
    "class FourierTransformLayer(nn.Module):\n",
    "    def __init__(self):\n",
    "        super(FourierTransformLayer, self).__init__()\n",
    "\n",
    "    def forward(self, x):\n",
    "        # 计算傅立叶变换\n",
    "        x_fft = torch.fft.fft(x)\n",
    "        # 返回前半部分的傅立叶系数\n",
    "        return x_fft[:, :x_fft.shape[1] // 2]\n",
    "\n",
    "# 示例使用\n",
    "batch_size = 2\n",
    "sequence_length = 4\n",
    "\n",
    "fourier_layer = FourierTransformLayer()\n",
    "X = torch.rand(batch_size, sequence_length)\n",
    "output = fourier_layer(X)\n",
    "print(output)\n"
   ]
  },
  {
   "cell_type": "code",
   "execution_count": null,
   "id": "a1924b3a",
   "metadata": {},
   "outputs": [],
   "source": []
  }
 ],
 "metadata": {
  "kernelspec": {
   "display_name": "Python 3 (ipykernel)",
   "language": "python",
   "name": "python3"
  },
  "language_info": {
   "codemirror_mode": {
    "name": "ipython",
    "version": 3
   },
   "file_extension": ".py",
   "mimetype": "text/x-python",
   "name": "python",
   "nbconvert_exporter": "python",
   "pygments_lexer": "ipython3",
   "version": "3.9.18"
  }
 },
 "nbformat": 4,
 "nbformat_minor": 5
}
