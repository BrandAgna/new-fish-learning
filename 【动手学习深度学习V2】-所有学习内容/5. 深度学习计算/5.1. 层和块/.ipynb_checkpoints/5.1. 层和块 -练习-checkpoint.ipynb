{
 "cells": [
  {
   "cell_type": "code",
   "execution_count": 5,
   "id": "92f59a9f",
   "metadata": {},
   "outputs": [],
   "source": [
    "# 导入所需的库\n",
    "import torch\n",
    "from torch import nn\n",
    "from torch.nn import functional as F"
   ]
  },
  {
   "cell_type": "markdown",
   "id": "d74c047a",
   "metadata": {},
   "source": [
    "# 练习 1 如果将`MySequential`中存储块的方式更改为Python列表，会出现什么样的问题？"
   ]
  },
  {
   "cell_type": "markdown",
   "id": "df487cef",
   "metadata": {},
   "source": [
    "### 如果将 MySequential 中存储块的方式更改为Python列表，可能导致模型的部分功能失效。因为PyTorch的模型是基于Module类构建的，这个类在内部使用OrderedDict来存储层。这样可以确保层的正确注册和参数的更新。如果改为使用Python列表，可能会导致模型在保存、加载、更新参数等操作时出现问题。"
   ]
  },
  {
   "cell_type": "code",
   "execution_count": 15,
   "id": "ec895824",
   "metadata": {},
   "outputs": [
    {
     "name": "stdout",
     "output_type": "stream",
     "text": [
      "平行块输出:\n",
      " tensor([[ 0.0535,  0.3320,  0.4689,  0.4142,  0.2036,  0.0937, -0.2280, -0.1565,\n",
      "          0.0938, -0.0523,  0.2362,  0.0961,  0.6618,  0.0919, -0.1842,  0.1980,\n",
      "          0.8704, -0.0681,  0.2672, -0.6627,  0.3244, -0.2274, -0.7633,  0.0302,\n",
      "          0.5529,  0.2682,  0.2911, -0.2695,  0.0443, -0.2979, -0.1452, -0.0148,\n",
      "         -0.1600,  0.0787, -0.1431, -0.5266, -0.1863, -0.2832,  0.5503,  0.2419,\n",
      "          0.0363,  0.0843,  0.3771,  0.0259,  0.0322, -0.3615, -0.3196,  0.0674,\n",
      "          0.4191,  0.4142, -0.0739,  0.4145, -0.1260, -0.3527, -0.2690,  0.2282,\n",
      "         -0.2169,  0.0052,  0.3592,  0.0166],\n",
      "        [ 0.2188,  0.2722,  0.5052,  0.3638,  0.4691,  0.2044, -0.3855,  0.3952,\n",
      "          0.5910,  0.0745,  0.4585, -0.0199,  0.7907,  0.1651, -0.5368,  0.5868,\n",
      "          1.0392,  0.2180,  0.3620, -1.0447,  0.3025, -0.0655, -0.8176, -0.1303,\n",
      "          0.6866,  0.4455,  0.0326, -0.4088, -0.1804, -0.1896, -0.7260,  0.6283,\n",
      "         -0.4530,  0.2301,  0.0072, -0.2609, -0.1362, -0.1851, -0.1827,  0.3072,\n",
      "         -0.1099,  0.0800,  0.5411,  0.1706,  0.0122, -0.3472, -0.0093,  0.5584,\n",
      "          0.7184,  0.3567,  0.4052,  0.3822,  0.1566, -0.3892, -0.3735,  0.5999,\n",
      "         -0.3797,  0.0663,  0.7967, -0.0286]], grad_fn=<CatBackward0>)\n"
     ]
    }
   ],
   "source": [
    "# 练习 2\n",
    "# 实现一个块，它接收两个块作为输入，并返回它们的串联输出。\n",
    "class ParallelBlock(nn.Module):\n",
    "    def __init__(self, block1, block2):\n",
    "        super().__init__()\n",
    "        self.block1 = block1\n",
    "        self.block2 = block2\n",
    "\n",
    "    def forward(self, X):\n",
    "        return torch.cat((self.block1(X), self.block2(X)), dim=1)\n",
    "\n",
    "# 实例化两个简单的网络块\n",
    "net1 = nn.Linear(20, 30)\n",
    "net2 = nn.Linear(20, 30)\n",
    "\n",
    "# 创建平行块\n",
    "parallel_net = ParallelBlock(net1, net2)\n",
    "\n",
    "# 测试输入\n",
    "X = torch.rand(2, 20)\n",
    "\n",
    "# 输出\n",
    "output_parallel = parallel_net(X)\n",
    "print(\"平行块输出:\\n\", output_parallel)\n"
   ]
  },
  {
   "cell_type": "code",
   "execution_count": 16,
   "id": "9307aa7a",
   "metadata": {},
   "outputs": [
    {
     "name": "stdout",
     "output_type": "stream",
     "text": [
      "多块网络输出:\n",
      " tensor([[-0.0537, -0.3329, -0.2792, -0.3192, -0.1828,  0.2196, -0.2366,  0.1496,\n",
      "         -0.3545, -0.2139,  0.2744,  0.2197,  0.3458,  0.0977,  0.0163,  0.2978,\n",
      "         -0.0480, -0.2997, -0.1882, -0.1738],\n",
      "        [-0.0136, -0.4075, -0.2703, -0.3686, -0.2942,  0.3230, -0.4294,  0.2660,\n",
      "         -0.4339, -0.2262,  0.1993,  0.1706,  0.3214,  0.1670, -0.1194,  0.2948,\n",
      "          0.0349, -0.2596, -0.2786, -0.1500]], grad_fn=<AddmmBackward0>)\n"
     ]
    }
   ],
   "source": [
    "# 练习 3\n",
    "# 实现一个函数，生成多个相同的块，并在此基础上构建更大的网络。\n",
    "def make_multiple_blocks(block, num_blocks):\n",
    "    return nn.Sequential(*[block for _ in range(num_blocks)])\n",
    "\n",
    "# 实例化一个简单的网络块\n",
    "block = nn.Linear(20, 20)\n",
    "\n",
    "# 创建包含多个相同块的网络\n",
    "multi_block_net = make_multiple_blocks(block, 3)\n",
    "\n",
    "# 测试输入\n",
    "X = torch.rand(2, 20)\n",
    "\n",
    "# 输出\n",
    "output_multi_block = multi_block_net(X)\n",
    "print(\"多块网络输出:\\n\", output_multi_block)\n"
   ]
  }
 ],
 "metadata": {
  "kernelspec": {
   "display_name": "Python 3 (ipykernel)",
   "language": "python",
   "name": "python3"
  },
  "language_info": {
   "codemirror_mode": {
    "name": "ipython",
    "version": 3
   },
   "file_extension": ".py",
   "mimetype": "text/x-python",
   "name": "python",
   "nbconvert_exporter": "python",
   "pygments_lexer": "ipython3",
   "version": "3.9.18"
  }
 },
 "nbformat": 4,
 "nbformat_minor": 5
}
