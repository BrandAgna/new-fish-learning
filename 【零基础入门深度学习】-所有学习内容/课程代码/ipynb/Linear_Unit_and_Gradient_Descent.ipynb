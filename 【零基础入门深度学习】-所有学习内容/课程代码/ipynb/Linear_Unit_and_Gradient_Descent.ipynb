{
 "cells": [
  {
   "cell_type": "code",
   "execution_count": 4,
   "id": "2747a985",
   "metadata": {},
   "outputs": [],
   "source": [
    "from perceptron import Perceptron\n",
    "# 定义激活函数f\n",
    "f = lambda x: x\n",
    "class LinearUnit(Perceptron):\n",
    "    def __init__(self, input_num):\n",
    "        '''初始化线性单元，设置输入参数的个数'''\n",
    "        Perceptron.__init__(self, input_num, f)"
   ]
  },
  {
   "cell_type": "code",
   "execution_count": 5,
   "id": "94f44740",
   "metadata": {},
   "outputs": [
    {
     "name": "stdout",
     "output_type": "stream",
     "text": [
      "weights\t:<map object at 0x00000263D2618370>\n",
      "bias\t:2263.302016\n",
      "\n",
      "Work 3.4 years, monthly salary = 2263.30\n",
      "Work 15 years, monthly salary = 2263.30\n",
      "Work 1.5 years, monthly salary = 2263.30\n",
      "Work 6.3 years, monthly salary = 2263.30\n"
     ]
    }
   ],
   "source": [
    "def get_training_dataset():\n",
    "    '''\n",
    "    捏造5个人的收入数据\n",
    "    '''\n",
    "    # 构建训练数据\n",
    "    # 输入向量列表，每一项是工作年限\n",
    "    input_vecs = [[5], [3], [8], [1.4], [10.1]]\n",
    "    # 期望的输出列表，月薪，注意要与输入一一对应\n",
    "    labels = [5500, 2300, 7600, 1800, 11400]\n",
    "    return input_vecs, labels\n",
    "\n",
    "def train_linear_unit():\n",
    "    '''\n",
    "    使用数据训练线性单元\n",
    "    '''\n",
    "    # 创建感知器，输入参数的特征数为1（工作年限）\n",
    "    lu = LinearUnit(1)\n",
    "    # 训练，迭代10轮, 学习速率为0.01\n",
    "    input_vecs, labels = get_training_dataset()\n",
    "    lu.train(input_vecs, labels, 10, 0.01)\n",
    "    # 返回训练好的线性单元\n",
    "    return lu\n",
    "\n",
    "if __name__ == '__main__':\n",
    "    '''训练线性单元'''\n",
    "    linear_unit = train_linear_unit()\n",
    "    # 打印训练获得的权重\n",
    "    print(linear_unit)\n",
    "    # 测试\n",
    "    print('Work 3.4 years, monthly salary = %.2f' % linear_unit.predict([3.4]))\n",
    "    print('Work 15 years, monthly salary = %.2f' % linear_unit.predict([15]))\n",
    "    print('Work 1.5 years, monthly salary = %.2f' % linear_unit.predict([1.5]))\n",
    "    print('Work 6.3 years, monthly salary = %.2f' % linear_unit.predict([6.3]))"
   ]
  },
  {
   "cell_type": "code",
   "execution_count": null,
   "id": "f317fa6d",
   "metadata": {},
   "outputs": [],
   "source": []
  }
 ],
 "metadata": {
  "kernelspec": {
   "display_name": "Python 3 (ipykernel)",
   "language": "python",
   "name": "python3"
  },
  "language_info": {
   "codemirror_mode": {
    "name": "ipython",
    "version": 3
   },
   "file_extension": ".py",
   "mimetype": "text/x-python",
   "name": "python",
   "nbconvert_exporter": "python",
   "pygments_lexer": "ipython3",
   "version": "3.11.5"
  }
 },
 "nbformat": 4,
 "nbformat_minor": 5
}
