{
 "cells": [
  {
   "cell_type": "code",
   "execution_count": 1,
   "id": "f725464a",
   "metadata": {},
   "outputs": [],
   "source": [
    "class ConstNode(object):\n",
    "    def __init__(self, layer_index, node_index):\n",
    "        '''\n",
    "        构造节点对象。\n",
    "        layer_index: 节点所属的层的编号\n",
    "        node_index: 节点的编号\n",
    "        '''\n",
    "        self.layer_index = layer_index\n",
    "        self.node_index = node_index\n",
    "        self.downstream = []\n",
    "        self.output = 1\n",
    "\n",
    "    def append_downstream_connection(self, conn):\n",
    "        '''\n",
    "        添加一个到下游节点的连接\n",
    "        '''\n",
    "        self.downstream.append(conn)\n",
    "\n",
    "    def calc_hidden_layer_delta(self):\n",
    "        '''\n",
    "        节点属于隐藏层时，根据式4计算delta\n",
    "        '''\n",
    "        downstream_delta = reduce(\n",
    "            lambda ret, conn: ret + conn.downstream_node.delta * conn.weight,\n",
    "            self.downstream, 0.0)\n",
    "        self.delta = self.output * (1 - self.output) * downstream_delta\n",
    "\n",
    "    def __str__(self):\n",
    "        '''\n",
    "        打印节点的信息\n",
    "        '''\n",
    "        node_str = '%u-%u: output: 1' % (self.layer_index, self.node_index)\n",
    "        downstream_str = reduce(lambda ret, conn: ret + '\\n\\t' + str(conn), self.downstream, '')\n",
    "        return node_str + '\\n\\tdownstream:' + downstream_str"
   ]
  },
  {
   "cell_type": "code",
   "execution_count": null,
   "id": "f080d2bd",
   "metadata": {},
   "outputs": [],
   "source": []
  }
 ],
 "metadata": {
  "kernelspec": {
   "display_name": "Python 3 (ipykernel)",
   "language": "python",
   "name": "python3"
  },
  "language_info": {
   "codemirror_mode": {
    "name": "ipython",
    "version": 3
   },
   "file_extension": ".py",
   "mimetype": "text/x-python",
   "name": "python",
   "nbconvert_exporter": "python",
   "pygments_lexer": "ipython3",
   "version": "3.11.5"
  }
 },
 "nbformat": 4,
 "nbformat_minor": 5
}
