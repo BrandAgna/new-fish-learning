{
 "cells": [
  {
   "cell_type": "code",
   "execution_count": 1,
   "id": "d7b695d5",
   "metadata": {},
   "outputs": [],
   "source": [
    "class Connection(object):\n",
    "    def __init__(self, upstream_node, downstream_node):\n",
    "        '''\n",
    "        初始化连接，权重初始化为是一个很小的随机数\n",
    "        upstream_node: 连接的上游节点\n",
    "        downstream_node: 连接的下游节点\n",
    "        '''\n",
    "        self.upstream_node = upstream_node\n",
    "        self.downstream_node = downstream_node\n",
    "        self.weight = random.uniform(-0.1, 0.1)\n",
    "        self.gradient = 0.0\n",
    "\n",
    "    def calc_gradient(self):\n",
    "        '''\n",
    "        计算梯度\n",
    "        '''\n",
    "        self.gradient = self.downstream_node.delta * self.upstream_node.output\n",
    "\n",
    "    def get_gradient(self):\n",
    "        '''\n",
    "        获取当前的梯度\n",
    "        '''\n",
    "        return self.gradient\n",
    "\n",
    "    def update_weight(self, rate):\n",
    "        '''\n",
    "        根据梯度下降算法更新权重\n",
    "        '''\n",
    "        self.calc_gradient()\n",
    "        self.weight += rate * self.gradient\n",
    "\n",
    "    def __str__(self):\n",
    "        '''\n",
    "        打印连接信息\n",
    "        '''\n",
    "        return '(%u-%u) -> (%u-%u) = %f' % (\n",
    "            self.upstream_node.layer_index,\n",
    "            self.upstream_node.node_index,\n",
    "            self.downstream_node.layer_index,\n",
    "            self.downstream_node.node_index,\n",
    "            self.weight)\n"
   ]
  },
  {
   "cell_type": "code",
   "execution_count": null,
   "id": "3a2b336e",
   "metadata": {},
   "outputs": [],
   "source": []
  }
 ],
 "metadata": {
  "kernelspec": {
   "display_name": "Python 3 (ipykernel)",
   "language": "python",
   "name": "python3"
  },
  "language_info": {
   "codemirror_mode": {
    "name": "ipython",
    "version": 3
   },
   "file_extension": ".py",
   "mimetype": "text/x-python",
   "name": "python",
   "nbconvert_exporter": "python",
   "pygments_lexer": "ipython3",
   "version": "3.11.5"
  }
 },
 "nbformat": 4,
 "nbformat_minor": 5
}
