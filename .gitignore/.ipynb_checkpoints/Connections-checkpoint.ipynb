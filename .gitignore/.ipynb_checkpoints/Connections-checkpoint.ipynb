{
 "cells": [
  {
   "cell_type": "code",
   "execution_count": null,
   "id": "e5f448db",
   "metadata": {},
   "outputs": [],
   "source": [
    "class Connections(object):\n",
    "    def __init__(self):\n",
    "        self.connections = []\n",
    "\n",
    "    def add_connection(self, connection):\n",
    "        self.connections.append(connection)\n",
    "\n",
    "    def dump(self):\n",
    "        for conn in self.connections:\n",
    "            print(conn)"
   ]
  }
 ],
 "metadata": {
  "kernelspec": {
   "display_name": "Python 3 (ipykernel)",
   "language": "python",
   "name": "python3"
  },
  "language_info": {
   "codemirror_mode": {
    "name": "ipython",
    "version": 3
   },
   "file_extension": ".py",
   "mimetype": "text/x-python",
   "name": "python",
   "nbconvert_exporter": "python",
   "pygments_lexer": "ipython3",
   "version": "3.11.5"
  }
 },
 "nbformat": 4,
 "nbformat_minor": 5
}
