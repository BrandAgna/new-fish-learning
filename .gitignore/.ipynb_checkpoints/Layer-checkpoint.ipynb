{
 "cells": [
  {
   "cell_type": "code",
   "execution_count": 1,
   "id": "13b14718",
   "metadata": {},
   "outputs": [],
   "source": [
    "class Layer(object):\n",
    "    def __init__(self, layer_index, node_count):\n",
    "        '''\n",
    "        初始化一层\n",
    "        layer_index: 层编号\n",
    "        node_count: 层所包含的节点个数\n",
    "        '''\n",
    "        self.layer_index = layer_index\n",
    "        self.nodes = []\n",
    "        for i in range(node_count):\n",
    "            self.nodes.append(Node(layer_index, i))\n",
    "        self.nodes.append(ConstNode(layer_index, node_count))\n",
    "\n",
    "    def set_output(self, data):\n",
    "        '''\n",
    "        设置层的输出。当层是输入层时会用到。\n",
    "        '''\n",
    "        for i in range(len(data)):\n",
    "            self.nodes[i].set_output(data[i])\n",
    "\n",
    "    def calc_output(self):\n",
    "        '''\n",
    "        计算层的输出向量\n",
    "        '''\n",
    "        for node in self.nodes[:-1]:\n",
    "            node.calc_output()\n",
    "\n",
    "    def dump(self):\n",
    "        '''\n",
    "        打印层的信息\n",
    "        '''\n",
    "        for node in self.nodes:\n",
    "            print(node)"
   ]
  },
  {
   "cell_type": "code",
   "execution_count": null,
   "id": "042295f3",
   "metadata": {},
   "outputs": [],
   "source": []
  }
 ],
 "metadata": {
  "kernelspec": {
   "display_name": "Python 3 (ipykernel)",
   "language": "python",
   "name": "python3"
  },
  "language_info": {
   "codemirror_mode": {
    "name": "ipython",
    "version": 3
   },
   "file_extension": ".py",
   "mimetype": "text/x-python",
   "name": "python",
   "nbconvert_exporter": "python",
   "pygments_lexer": "ipython3",
   "version": "3.11.5"
  }
 },
 "nbformat": 4,
 "nbformat_minor": 5
}
