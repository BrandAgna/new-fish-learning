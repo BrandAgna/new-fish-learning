{
 "cells": [
  {
   "cell_type": "markdown",
   "id": "59b31683",
   "metadata": {
    "origin_pos": 0
   },
   "source": [
    "# 多层感知机的从零开始实现"
   ]
  },
  {
   "cell_type": "code",
   "execution_count": 2,
   "id": "ffbb0fc1",
   "metadata": {
    "execution": {
     "iopub.execute_input": "2023-08-18T06:59:21.394152Z",
     "iopub.status.busy": "2023-08-18T06:59:21.393407Z",
     "iopub.status.idle": "2023-08-18T06:59:24.364157Z",
     "shell.execute_reply": "2023-08-18T06:59:24.362977Z"
    },
    "origin_pos": 2,
    "tab": [
     "pytorch"
    ]
   },
   "outputs": [],
   "source": [
    "import torch\n",
    "from torch import nn\n",
    "from d2l import torch as d2l"
   ]
  },
  {
   "cell_type": "code",
   "execution_count": 3,
   "id": "0be61c4f",
   "metadata": {
    "execution": {
     "iopub.execute_input": "2023-08-18T06:59:24.369567Z",
     "iopub.status.busy": "2023-08-18T06:59:24.368990Z",
     "iopub.status.idle": "2023-08-18T06:59:24.501326Z",
     "shell.execute_reply": "2023-08-18T06:59:24.500151Z"
    },
    "origin_pos": 5,
    "tab": [
     "pytorch"
    ]
   },
   "outputs": [],
   "source": [
    "batch_size = 256\n",
    "train_iter, test_iter = d2l.load_data_fashion_mnist(batch_size)"
   ]
  },
  {
   "cell_type": "markdown",
   "id": "8236e2cd",
   "metadata": {
    "origin_pos": 6
   },
   "source": [
    "## 更改隐藏单元数（num_hiddens），添加更多的隐藏层"
   ]
  },
  {
   "cell_type": "code",
   "execution_count": 5,
   "id": "7730f280",
   "metadata": {
    "execution": {
     "iopub.execute_input": "2023-08-18T06:59:24.508163Z",
     "iopub.status.busy": "2023-08-18T06:59:24.506257Z",
     "iopub.status.idle": "2023-08-18T06:59:24.520861Z",
     "shell.execute_reply": "2023-08-18T06:59:24.519861Z"
    },
    "origin_pos": 8,
    "tab": [
     "pytorch"
    ]
   },
   "outputs": [],
   "source": [
    "num_inputs, num_outputs, num_hiddens = 784, 10, 512\n",
    "\n",
    "W1 = nn.Parameter(torch.randn(num_inputs, num_hiddens, requires_grad=True) * 0.01)\n",
    "b1 = nn.Parameter(torch.zeros(num_hiddens, requires_grad=True))\n",
    "W2 = nn.Parameter(torch.randn(num_hiddens, num_hiddens, requires_grad=True) * 0.01)  # 新增隐藏层\n",
    "b2 = nn.Parameter(torch.zeros(num_hiddens, requires_grad=True))\n",
    "W3 = nn.Parameter(torch.randn(num_hiddens, num_outputs, requires_grad=True) * 0.01)  # 输出层\n",
    "b3 = nn.Parameter(torch.zeros(num_outputs, requires_grad=True))\n",
    "\n",
    "params = [W1, b1, W2, b2, W3, b3]"
   ]
  },
  {
   "cell_type": "markdown",
   "id": "2700dfe8",
   "metadata": {
    "origin_pos": 11
   },
   "source": [
    "## 激活函数"
   ]
  },
  {
   "cell_type": "code",
   "execution_count": 6,
   "id": "5f46a813",
   "metadata": {
    "execution": {
     "iopub.execute_input": "2023-08-18T06:59:24.528151Z",
     "iopub.status.busy": "2023-08-18T06:59:24.526356Z",
     "iopub.status.idle": "2023-08-18T06:59:24.533695Z",
     "shell.execute_reply": "2023-08-18T06:59:24.532654Z"
    },
    "origin_pos": 13,
    "tab": [
     "pytorch"
    ]
   },
   "outputs": [],
   "source": [
    "def relu(X):\n",
    "    a = torch.zeros_like(X)\n",
    "    return torch.max(X, a)"
   ]
  },
  {
   "cell_type": "markdown",
   "id": "741dbe39",
   "metadata": {
    "origin_pos": 16
   },
   "source": [
    "## 修改模型"
   ]
  },
  {
   "cell_type": "code",
   "execution_count": 7,
   "id": "b3d9923a",
   "metadata": {
    "execution": {
     "iopub.execute_input": "2023-08-18T06:59:24.541482Z",
     "iopub.status.busy": "2023-08-18T06:59:24.539621Z",
     "iopub.status.idle": "2023-08-18T06:59:24.547435Z",
     "shell.execute_reply": "2023-08-18T06:59:24.546468Z"
    },
    "origin_pos": 18,
    "tab": [
     "pytorch"
    ]
   },
   "outputs": [],
   "source": [
    "# 修改模型\n",
    "def net(X):\n",
    "    X = X.reshape((-1, num_inputs))\n",
    "    H1 = relu(X @ W1 + b1)\n",
    "    H2 = relu(H1 @ W2 + b2)  # 新增隐藏层的激活\n",
    "    return (H2 @ W3 + b3)"
   ]
  },
  {
   "cell_type": "markdown",
   "id": "bd600c14",
   "metadata": {
    "origin_pos": 21
   },
   "source": [
    "## 损失函数"
   ]
  },
  {
   "cell_type": "code",
   "execution_count": 9,
   "id": "f55fe0ea",
   "metadata": {
    "execution": {
     "iopub.execute_input": "2023-08-18T06:59:24.554675Z",
     "iopub.status.busy": "2023-08-18T06:59:24.552824Z",
     "iopub.status.idle": "2023-08-18T06:59:24.560084Z",
     "shell.execute_reply": "2023-08-18T06:59:24.559049Z"
    },
    "origin_pos": 23,
    "tab": [
     "pytorch"
    ]
   },
   "outputs": [],
   "source": [
    "loss = nn.CrossEntropyLoss(reduction='none')"
   ]
  },
  {
   "cell_type": "markdown",
   "id": "b3a03c3a",
   "metadata": {
    "origin_pos": 25
   },
   "source": [
    "## 训练"
   ]
  },
  {
   "cell_type": "code",
   "execution_count": null,
   "id": "c83cc0c7",
   "metadata": {
    "execution": {
     "iopub.execute_input": "2023-08-18T06:59:24.567796Z",
     "iopub.status.busy": "2023-08-18T06:59:24.566005Z",
     "iopub.status.idle": "2023-08-18T07:00:19.750339Z",
     "shell.execute_reply": "2023-08-18T07:00:19.748990Z"
    },
    "origin_pos": 27,
    "tab": [
     "pytorch"
    ]
   },
   "outputs": [],
   "source": [
    "num_epochs, lr = 10, 0.5\n",
    "updater = torch.optim.SGD(params, lr=lr)\n",
    "d2l.train_ch3(net, train_iter, test_iter, loss, num_epochs, updater)"
   ]
  },
  {
   "cell_type": "code",
   "execution_count": null,
   "id": "8230ba7c",
   "metadata": {
    "execution": {
     "iopub.execute_input": "2023-08-18T07:00:19.755336Z",
     "iopub.status.busy": "2023-08-18T07:00:19.754506Z",
     "iopub.status.idle": "2023-08-18T07:00:20.323813Z",
     "shell.execute_reply": "2023-08-18T07:00:20.322738Z"
    },
    "origin_pos": 31,
    "tab": [
     "pytorch"
    ]
   },
   "outputs": [],
   "source": [
    "d2l.predict_ch3(net, test_iter)"
   ]
  }
 ],
 "metadata": {
  "kernelspec": {
   "display_name": "Python 3 (ipykernel)",
   "language": "python",
   "name": "python3"
  },
  "language_info": {
   "codemirror_mode": {
    "name": "ipython",
    "version": 3
   },
   "file_extension": ".py",
   "mimetype": "text/x-python",
   "name": "python",
   "nbconvert_exporter": "python",
   "pygments_lexer": "ipython3",
   "version": "3.9.18"
  },
  "required_libs": []
 },
 "nbformat": 4,
 "nbformat_minor": 5
}
