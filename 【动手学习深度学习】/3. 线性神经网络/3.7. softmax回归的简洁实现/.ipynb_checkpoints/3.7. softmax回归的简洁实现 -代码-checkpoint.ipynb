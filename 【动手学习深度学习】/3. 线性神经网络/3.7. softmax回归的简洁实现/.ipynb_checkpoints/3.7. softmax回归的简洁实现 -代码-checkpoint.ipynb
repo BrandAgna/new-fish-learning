{
 "cells": [
  {
   "cell_type": "markdown",
   "id": "1464cc27",
   "metadata": {
    "origin_pos": 0
   },
   "source": [
    "# softmax回归的简洁实现"
   ]
  },
  {
   "cell_type": "code",
   "execution_count": 2,
   "id": "7f81001f",
   "metadata": {
    "execution": {
     "iopub.execute_input": "2023-08-18T06:57:16.212083Z",
     "iopub.status.busy": "2023-08-18T06:57:16.211369Z",
     "iopub.status.idle": "2023-08-18T06:57:18.227520Z",
     "shell.execute_reply": "2023-08-18T06:57:18.226314Z"
    },
    "origin_pos": 2,
    "tab": [
     "pytorch"
    ]
   },
   "outputs": [],
   "source": [
    "import torch\n",
    "from torch import nn\n",
    "from d2l import torch as d2l"
   ]
  },
  {
   "cell_type": "code",
   "execution_count": 3,
   "id": "92e395a8",
   "metadata": {
    "execution": {
     "iopub.execute_input": "2023-08-18T06:57:18.231806Z",
     "iopub.status.busy": "2023-08-18T06:57:18.230933Z",
     "iopub.status.idle": "2023-08-18T06:57:18.337514Z",
     "shell.execute_reply": "2023-08-18T06:57:18.336238Z"
    },
    "origin_pos": 5,
    "tab": [
     "pytorch"
    ]
   },
   "outputs": [],
   "source": [
    "batch_size = 256\n",
    "train_iter, test_iter = d2l.load_data_fashion_mnist(batch_size)"
   ]
  },
  {
   "cell_type": "markdown",
   "id": "fb2b9199",
   "metadata": {
    "origin_pos": 6
   },
   "source": [
    "## 初始化模型参数"
   ]
  },
  {
   "cell_type": "code",
   "execution_count": 4,
   "id": "ebf37311",
   "metadata": {
    "execution": {
     "iopub.execute_input": "2023-08-18T06:57:18.342288Z",
     "iopub.status.busy": "2023-08-18T06:57:18.342007Z",
     "iopub.status.idle": "2023-08-18T06:57:18.349431Z",
     "shell.execute_reply": "2023-08-18T06:57:18.348277Z"
    },
    "origin_pos": 8,
    "tab": [
     "pytorch"
    ]
   },
   "outputs": [],
   "source": [
    "# PyTorch不会隐式地调整输入的形状。因此，\n",
    "# 我们在线性层前定义了展平层（flatten），来调整网络输入的形状\n",
    "net = nn.Sequential(nn.Flatten(), nn.Linear(784, 10))\n",
    "\n",
    "def init_weights(m):\n",
    "    if type(m) == nn.Linear:\n",
    "        nn.init.normal_(m.weight, std=0.01)\n",
    "\n",
    "net.apply(init_weights);"
   ]
  },
  {
   "cell_type": "markdown",
   "id": "30a6c3c5",
   "metadata": {
    "origin_pos": 11
   },
   "source": [
    "## 重新审视Softmax的实现"
   ]
  },
  {
   "cell_type": "code",
   "execution_count": 5,
   "id": "91c3ac45",
   "metadata": {
    "execution": {
     "iopub.execute_input": "2023-08-18T06:57:18.353684Z",
     "iopub.status.busy": "2023-08-18T06:57:18.353410Z",
     "iopub.status.idle": "2023-08-18T06:57:18.358187Z",
     "shell.execute_reply": "2023-08-18T06:57:18.357079Z"
    },
    "origin_pos": 13,
    "tab": [
     "pytorch"
    ]
   },
   "outputs": [],
   "source": [
    "loss = nn.CrossEntropyLoss(reduction='none')"
   ]
  },
  {
   "cell_type": "markdown",
   "id": "c347cec2",
   "metadata": {
    "origin_pos": 15
   },
   "source": [
    "## 优化算法"
   ]
  },
  {
   "cell_type": "code",
   "execution_count": 6,
   "id": "c4849ef8",
   "metadata": {
    "execution": {
     "iopub.execute_input": "2023-08-18T06:57:18.362274Z",
     "iopub.status.busy": "2023-08-18T06:57:18.361998Z",
     "iopub.status.idle": "2023-08-18T06:57:18.366991Z",
     "shell.execute_reply": "2023-08-18T06:57:18.365798Z"
    },
    "origin_pos": 17,
    "tab": [
     "pytorch"
    ]
   },
   "outputs": [],
   "source": [
    "trainer = torch.optim.SGD(net.parameters(), lr=0.1)"
   ]
  },
  {
   "cell_type": "markdown",
   "id": "c2cf8941",
   "metadata": {
    "origin_pos": 20
   },
   "source": [
    "## 训练"
   ]
  },
  {
   "cell_type": "code",
   "execution_count": null,
   "id": "5acea90d",
   "metadata": {
    "execution": {
     "iopub.execute_input": "2023-08-18T06:57:18.371133Z",
     "iopub.status.busy": "2023-08-18T06:57:18.370849Z",
     "iopub.status.idle": "2023-08-18T06:58:00.716532Z",
     "shell.execute_reply": "2023-08-18T06:58:00.715223Z"
    },
    "origin_pos": 21,
    "scrolled": true,
    "tab": [
     "pytorch"
    ]
   },
   "outputs": [],
   "source": [
    "num_epochs = 10\n",
    "d2l.train_ch3(net, train_iter, test_iter, loss, num_epochs, trainer)"
   ]
  }
 ],
 "metadata": {
  "kernelspec": {
   "display_name": "Python 3 (ipykernel)",
   "language": "python",
   "name": "python3"
  },
  "language_info": {
   "codemirror_mode": {
    "name": "ipython",
    "version": 3
   },
   "file_extension": ".py",
   "mimetype": "text/x-python",
   "name": "python",
   "nbconvert_exporter": "python",
   "pygments_lexer": "ipython3",
   "version": "3.9.18"
  },
  "required_libs": []
 },
 "nbformat": 4,
 "nbformat_minor": 5
}
