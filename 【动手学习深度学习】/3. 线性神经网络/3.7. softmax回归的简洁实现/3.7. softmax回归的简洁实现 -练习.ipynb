{
 "cells": [
  {
   "cell_type": "markdown",
   "id": "168149c9",
   "metadata": {},
   "source": [
    "### 练习答案\n",
    "\n",
    "**1. 调整超参数的影响：**\n",
    "   - 调整批量大小可以影响模型训练的内存使用和更新频率。较大的批量可能提高内存效率，但可能需要更多的迭代来收敛。\n",
    "   - 改变迭代周期数（epochs）会影响模型的训练时间和潜在的过拟合风险。更多的周期可能导致更好的训练精度，但也可能引入过拟合。\n",
    "   - 学习率对模型的收敛速度和稳定性有显著影响。较高的学习率可能导致快速学习但可能错过最优解，而较低的学习率可能导致收敛缓慢。\n",
    "\n",
    "**2. 增加迭代周期数导致测试精度降低的原因和解决方案：**\n",
    "   - 测试精度在一段时间后降低通常是过拟合的迹象，意味着模型在训练数据上学到了噪声而不是底层模式。\n",
    "   - 解决这个问题的策略包括提前停止（即在验证精度开始下降时停止训练），使用正则化技术（如L1或L2正则化），或使用更多的数据进行训练。"
   ]
  },
  {
   "cell_type": "code",
   "execution_count": null,
   "id": "037282a8",
   "metadata": {},
   "outputs": [],
   "source": []
  }
 ],
 "metadata": {
  "kernelspec": {
   "display_name": "Python 3 (ipykernel)",
   "language": "python",
   "name": "python3"
  },
  "language_info": {
   "codemirror_mode": {
    "name": "ipython",
    "version": 3
   },
   "file_extension": ".py",
   "mimetype": "text/x-python",
   "name": "python",
   "nbconvert_exporter": "python",
   "pygments_lexer": "ipython3",
   "version": "3.11.5"
  }
 },
 "nbformat": 4,
 "nbformat_minor": 5
}
