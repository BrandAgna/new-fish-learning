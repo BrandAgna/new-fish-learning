{
 "cells": [
  {
   "cell_type": "markdown",
   "id": "dfac3293",
   "metadata": {},
   "source": [
    "### 练习答案\n",
    "\n",
    "**1. 如果将小批量的总损失替换为小批量损失的平均值，需要如何更改学习率？**\n",
    "   - 将小批量的总损失替换为平均值时，学习率需要进行调整，因为平均损失通常会比总损失小，尤其在小批量较大时更为明显。如果不调整学习率，可能导致梯度更新过小，从而使训练过程变慢。具体调整多少取决于批量的大小和数据的特性，通常需要通过实验来确定最优的学习率。\n",
    "\n",
    "**2. 查看深度学习框架文档，它们提供了哪些损失函数和初始化方法？**\n",
    "   - 深度学习框架（如PyTorch、TensorFlow等）通常提供多种损失函数，如均方误差、交叉熵、Huber损失等。同样，它们也提供多种权重初始化方法，如随机初始化、Xavier初始化、He初始化等。您可以在相应框架的文档中查找这些信息。\n",
    "\n",
    "**3. 如何访问线性回归的梯度？**\n",
    "   - 在大多数深度学习框架中，训练过程中计算的梯度通常存储在模型参数（如权重和偏置）的属性中。例如，在PyTorch中，可以通过`parameter.grad`访问任何参数的梯度，其中`parameter`是模型的一个参数。"
   ]
  }
 ],
 "metadata": {
  "kernelspec": {
   "display_name": "Python 3 (ipykernel)",
   "language": "python",
   "name": "python3"
  },
  "language_info": {
   "codemirror_mode": {
    "name": "ipython",
    "version": 3
   },
   "file_extension": ".py",
   "mimetype": "text/x-python",
   "name": "python",
   "nbconvert_exporter": "python",
   "pygments_lexer": "ipython3",
   "version": "3.11.5"
  }
 },
 "nbformat": 4,
 "nbformat_minor": 5
}
